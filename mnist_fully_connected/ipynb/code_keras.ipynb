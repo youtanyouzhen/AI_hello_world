{
 "cells": [
  {
   "cell_type": "markdown",
   "metadata": {},
   "source": [
    "# 参数"
   ]
  },
  {
   "cell_type": "code",
   "execution_count": 1,
   "metadata": {},
   "outputs": [],
   "source": [
    "TRAIN_SIZE = 5000\n",
    "VAL_SIZE = 1000"
   ]
  },
  {
   "cell_type": "markdown",
   "metadata": {},
   "source": [
    "# 导入mnist数据集"
   ]
  },
  {
   "cell_type": "code",
   "execution_count": 2,
   "metadata": {
    "pycharm": {}
   },
   "outputs": [
    {
     "name": "stderr",
     "output_type": "stream",
     "text": [
      "Using TensorFlow backend.\n"
     ]
    }
   ],
   "source": [
    "# 导入mnist\n",
    "from keras.datasets import mnist"
   ]
  },
  {
   "cell_type": "code",
   "execution_count": 3,
   "metadata": {},
   "outputs": [],
   "source": [
    "# 拆分训练集和测试集\n",
    "(train_images, train_labels), (test_images, test_labels) = mnist.load_data()"
   ]
  },
  {
   "cell_type": "markdown",
   "metadata": {
    "pycharm": {}
   },
   "source": [
    "# 查看训练数据"
   ]
  },
  {
   "cell_type": "code",
   "execution_count": 4,
   "metadata": {},
   "outputs": [
    {
     "data": {
      "text/plain": [
       "numpy.ndarray"
      ]
     },
     "execution_count": 4,
     "metadata": {},
     "output_type": "execute_result"
    }
   ],
   "source": [
    "# 查看数据类型\n",
    "type(train_images)"
   ]
  },
  {
   "cell_type": "code",
   "execution_count": 5,
   "metadata": {
    "pycharm": {}
   },
   "outputs": [
    {
     "data": {
      "text/plain": [
       "(60000, 28, 28)"
      ]
     },
     "execution_count": 5,
     "metadata": {},
     "output_type": "execute_result"
    }
   ],
   "source": [
    "train_images.shape"
   ]
  },
  {
   "cell_type": "code",
   "execution_count": 6,
   "metadata": {
    "pycharm": {}
   },
   "outputs": [
    {
     "data": {
      "text/plain": [
       "array([5, 0, 4, ..., 5, 6, 8], dtype=uint8)"
      ]
     },
     "execution_count": 6,
     "metadata": {},
     "output_type": "execute_result"
    }
   ],
   "source": [
    "train_labels"
   ]
  },
  {
   "cell_type": "markdown",
   "metadata": {
    "pycharm": {}
   },
   "source": [
    "# 查看测试数据"
   ]
  },
  {
   "cell_type": "code",
   "execution_count": 7,
   "metadata": {
    "pycharm": {}
   },
   "outputs": [
    {
     "data": {
      "text/plain": [
       "(10000, 28, 28)"
      ]
     },
     "execution_count": 7,
     "metadata": {},
     "output_type": "execute_result"
    }
   ],
   "source": [
    "test_images.shape"
   ]
  },
  {
   "cell_type": "code",
   "execution_count": 8,
   "metadata": {
    "pycharm": {}
   },
   "outputs": [
    {
     "data": {
      "text/plain": [
       "array([7, 2, 1, ..., 4, 5, 6], dtype=uint8)"
      ]
     },
     "execution_count": 8,
     "metadata": {},
     "output_type": "execute_result"
    }
   ],
   "source": [
    "test_labels"
   ]
  },
  {
   "cell_type": "markdown",
   "metadata": {},
   "source": [
    "# 作图查看mnist"
   ]
  },
  {
   "cell_type": "code",
   "execution_count": 9,
   "metadata": {},
   "outputs": [
    {
     "data": {
      "text/plain": [
       "<Figure size 640x480 with 1 Axes>"
      ]
     },
     "metadata": {},
     "output_type": "display_data"
    }
   ],
   "source": [
    "import numpy as np\n",
    "import matplotlib.pyplot as plt\n",
    "digits = np.concatenate(train_images[:10], axis=1) \n",
    "plt.imshow(digits)\n",
    "plt.show()"
   ]
  },
  {
   "cell_type": "markdown",
   "metadata": {},
   "source": [
    "# 从训练集中提取出验证集"
   ]
  },
  {
   "cell_type": "code",
   "execution_count": 10,
   "metadata": {},
   "outputs": [
    {
     "data": {
      "text/plain": [
       "(5000, 28, 28)"
      ]
     },
     "execution_count": 10,
     "metadata": {},
     "output_type": "execute_result"
    }
   ],
   "source": [
    "val_images, val_labels = train_images[:VAL_SIZE], train_labels[:VAL_SIZE]\n",
    "new_train_images, new_train_labels = train_images[-TRAIN_SIZE:], train_labels[-TRAIN_SIZE:]\n",
    "new_train_images.shape"
   ]
  },
  {
   "cell_type": "markdown",
   "metadata": {},
   "source": [
    "# 输入输出转成向量"
   ]
  },
  {
   "cell_type": "code",
   "execution_count": 11,
   "metadata": {},
   "outputs": [
    {
     "data": {
      "text/plain": [
       "(5000, 784)"
      ]
     },
     "execution_count": 11,
     "metadata": {},
     "output_type": "execute_result"
    }
   ],
   "source": [
    "#  输入的28*28图像转成向量  用flatten\n",
    "train_vectors = new_train_images.reshape((TRAIN_SIZE, 28 * 28))\n",
    "test_vectors = test_images.reshape((10000, 28 * 28))\n",
    "val_vectors = val_images.reshape((VAL_SIZE, 28 * 28))\n",
    "\n",
    "# 检查训练集输入\n",
    "train_vectors.shape"
   ]
  },
  {
   "cell_type": "code",
   "execution_count": 12,
   "metadata": {},
   "outputs": [
    {
     "data": {
      "text/plain": [
       "(5000, 10)"
      ]
     },
     "execution_count": 12,
     "metadata": {},
     "output_type": "execute_result"
    }
   ],
   "source": [
    "from keras.utils import to_categorical\n",
    "\n",
    "# 将labels转为one-hot向量\n",
    "train_one_hots = to_categorical(new_train_labels)\n",
    "test_one_hots = to_categorical(test_labels)\n",
    "val_one_hots = to_categorical(val_labels)\n",
    "\n",
    "# 检查训练集输出\n",
    "train_one_hots.shape"
   ]
  },
  {
   "cell_type": "markdown",
   "metadata": {},
   "source": [
    "# 归一化"
   ]
  },
  {
   "cell_type": "code",
   "execution_count": 13,
   "metadata": {},
   "outputs": [
    {
     "name": "stdout",
     "output_type": "stream",
     "text": [
      "归一化前： [  0   0   0   0   0   0   0   0   0   0   0   0   0   0   0   0   0   0\n",
      "   0   0  38 237 220  11   0   0   0   0   0   0   0   0   0   0   0   0\n",
      "   0   0   0   0]\n",
      "\n",
      "归一化后： [0.         0.         0.         0.         0.         0.\n",
      " 0.         0.         0.         0.         0.         0.\n",
      " 0.         0.         0.         0.         0.         0.\n",
      " 0.         0.         0.14901961 0.92941177 0.8627451  0.04313726\n",
      " 0.         0.         0.         0.         0.         0.\n",
      " 0.         0.         0.         0.         0.         0.\n",
      " 0.         0.         0.         0.        ]\n"
     ]
    }
   ],
   "source": [
    "print('归一化前：', train_vectors[0][110:150])\n",
    "print()\n",
    "\n",
    "train_vectors_norm = train_vectors.astype('float32') / 255\n",
    "test_vectors_norm = test_vectors.astype('float32') / 255\n",
    "val_vectors_norm = val_vectors.astype('float32') / 255\n",
    "\n",
    "print('归一化后：', train_vectors_norm[0][110:150])"
   ]
  },
  {
   "cell_type": "markdown",
   "metadata": {
    "pycharm": {}
   },
   "source": [
    "# 搭建网络"
   ]
  },
  {
   "cell_type": "code",
   "execution_count": 14,
   "metadata": {
    "pycharm": {}
   },
   "outputs": [
    {
     "name": "stdout",
     "output_type": "stream",
     "text": [
      "Model: \"sequential_1\"\n",
      "_________________________________________________________________\n",
      "Layer (type)                 Output Shape              Param #   \n",
      "=================================================================\n",
      "dense_1 (Dense)              (None, 64)                50240     \n",
      "_________________________________________________________________\n",
      "batch_normalization_1 (Batch (None, 64)                256       \n",
      "_________________________________________________________________\n",
      "leaky_re_lu_1 (LeakyReLU)    (None, 64)                0         \n",
      "_________________________________________________________________\n",
      "dense_2 (Dense)              (None, 64)                4160      \n",
      "_________________________________________________________________\n",
      "batch_normalization_2 (Batch (None, 64)                256       \n",
      "_________________________________________________________________\n",
      "dropout_1 (Dropout)          (None, 64)                0         \n",
      "_________________________________________________________________\n",
      "dense_3 (Dense)              (None, 64)                4160      \n",
      "_________________________________________________________________\n",
      "batch_normalization_3 (Batch (None, 64)                256       \n",
      "_________________________________________________________________\n",
      "dropout_2 (Dropout)          (None, 64)                0         \n",
      "_________________________________________________________________\n",
      "dense_4 (Dense)              (None, 64)                4160      \n",
      "_________________________________________________________________\n",
      "batch_normalization_4 (Batch (None, 64)                256       \n",
      "_________________________________________________________________\n",
      "dropout_3 (Dropout)          (None, 64)                0         \n",
      "_________________________________________________________________\n",
      "dense_5 (Dense)              (None, 64)                4160      \n",
      "_________________________________________________________________\n",
      "batch_normalization_5 (Batch (None, 64)                256       \n",
      "_________________________________________________________________\n",
      "dropout_4 (Dropout)          (None, 64)                0         \n",
      "_________________________________________________________________\n",
      "dense_6 (Dense)              (None, 64)                4160      \n",
      "_________________________________________________________________\n",
      "batch_normalization_6 (Batch (None, 64)                256       \n",
      "_________________________________________________________________\n",
      "dropout_5 (Dropout)          (None, 64)                0         \n",
      "_________________________________________________________________\n",
      "dense_7 (Dense)              (None, 64)                4160      \n",
      "_________________________________________________________________\n",
      "batch_normalization_7 (Batch (None, 64)                256       \n",
      "_________________________________________________________________\n",
      "dropout_6 (Dropout)          (None, 64)                0         \n",
      "_________________________________________________________________\n",
      "dense_8 (Dense)              (None, 64)                4160      \n",
      "_________________________________________________________________\n",
      "batch_normalization_8 (Batch (None, 64)                256       \n",
      "_________________________________________________________________\n",
      "dropout_7 (Dropout)          (None, 64)                0         \n",
      "_________________________________________________________________\n",
      "dense_9 (Dense)              (None, 64)                4160      \n",
      "_________________________________________________________________\n",
      "batch_normalization_9 (Batch (None, 64)                256       \n",
      "_________________________________________________________________\n",
      "dropout_8 (Dropout)          (None, 64)                0         \n",
      "_________________________________________________________________\n",
      "dense_10 (Dense)             (None, 64)                4160      \n",
      "_________________________________________________________________\n",
      "batch_normalization_10 (Batc (None, 64)                256       \n",
      "_________________________________________________________________\n",
      "dropout_9 (Dropout)          (None, 64)                0         \n",
      "_________________________________________________________________\n",
      "dense_11 (Dense)             (None, 64)                4160      \n",
      "_________________________________________________________________\n",
      "batch_normalization_11 (Batc (None, 64)                256       \n",
      "_________________________________________________________________\n",
      "dropout_10 (Dropout)         (None, 64)                0         \n",
      "_________________________________________________________________\n",
      "dense_12 (Dense)             (None, 64)                4160      \n",
      "_________________________________________________________________\n",
      "batch_normalization_12 (Batc (None, 64)                256       \n",
      "_________________________________________________________________\n",
      "dropout_11 (Dropout)         (None, 64)                0         \n",
      "_________________________________________________________________\n",
      "dense_13 (Dense)             (None, 64)                4160      \n",
      "_________________________________________________________________\n",
      "batch_normalization_13 (Batc (None, 64)                256       \n",
      "_________________________________________________________________\n",
      "dropout_12 (Dropout)         (None, 64)                0         \n",
      "_________________________________________________________________\n",
      "dense_14 (Dense)             (None, 64)                4160      \n",
      "_________________________________________________________________\n",
      "batch_normalization_14 (Batc (None, 64)                256       \n",
      "_________________________________________________________________\n",
      "dropout_13 (Dropout)         (None, 64)                0         \n",
      "_________________________________________________________________\n",
      "dense_15 (Dense)             (None, 64)                4160      \n",
      "_________________________________________________________________\n",
      "batch_normalization_15 (Batc (None, 64)                256       \n",
      "_________________________________________________________________\n",
      "dropout_14 (Dropout)         (None, 64)                0         \n",
      "_________________________________________________________________\n",
      "dense_16 (Dense)             (None, 64)                4160      \n",
      "_________________________________________________________________\n",
      "batch_normalization_16 (Batc (None, 64)                256       \n",
      "_________________________________________________________________\n",
      "dropout_15 (Dropout)         (None, 64)                0         \n",
      "_________________________________________________________________\n",
      "dense_17 (Dense)             (None, 64)                4160      \n",
      "_________________________________________________________________\n",
      "batch_normalization_17 (Batc (None, 64)                256       \n",
      "_________________________________________________________________\n",
      "dropout_16 (Dropout)         (None, 64)                0         \n",
      "_________________________________________________________________\n",
      "dense_18 (Dense)             (None, 64)                4160      \n",
      "_________________________________________________________________\n",
      "batch_normalization_18 (Batc (None, 64)                256       \n",
      "_________________________________________________________________\n",
      "dropout_17 (Dropout)         (None, 64)                0         \n",
      "_________________________________________________________________\n",
      "dense_19 (Dense)             (None, 64)                4160      \n",
      "_________________________________________________________________\n",
      "batch_normalization_19 (Batc (None, 64)                256       \n",
      "_________________________________________________________________\n",
      "dropout_18 (Dropout)         (None, 64)                0         \n",
      "_________________________________________________________________\n",
      "dense_20 (Dense)             (None, 64)                4160      \n",
      "_________________________________________________________________\n",
      "batch_normalization_20 (Batc (None, 64)                256       \n",
      "_________________________________________________________________\n",
      "dropout_19 (Dropout)         (None, 64)                0         \n",
      "_________________________________________________________________\n",
      "dense_21 (Dense)             (None, 64)                4160      \n",
      "_________________________________________________________________\n",
      "batch_normalization_21 (Batc (None, 64)                256       \n",
      "_________________________________________________________________\n",
      "dropout_20 (Dropout)         (None, 64)                0         \n",
      "_________________________________________________________________\n",
      "dense_22 (Dense)             (None, 64)                4160      \n",
      "_________________________________________________________________\n",
      "batch_normalization_22 (Batc (None, 64)                256       \n",
      "_________________________________________________________________\n",
      "dropout_21 (Dropout)         (None, 64)                0         \n",
      "_________________________________________________________________\n",
      "dense_23 (Dense)             (None, 64)                4160      \n",
      "_________________________________________________________________\n",
      "batch_normalization_23 (Batc (None, 64)                256       \n",
      "_________________________________________________________________\n",
      "dropout_22 (Dropout)         (None, 64)                0         \n",
      "_________________________________________________________________\n",
      "dense_24 (Dense)             (None, 64)                4160      \n",
      "_________________________________________________________________\n",
      "batch_normalization_24 (Batc (None, 64)                256       \n",
      "_________________________________________________________________\n",
      "dropout_23 (Dropout)         (None, 64)                0         \n",
      "_________________________________________________________________\n",
      "dense_25 (Dense)             (None, 64)                4160      \n",
      "_________________________________________________________________\n",
      "batch_normalization_25 (Batc (None, 64)                256       \n",
      "_________________________________________________________________\n",
      "dropout_24 (Dropout)         (None, 64)                0         \n",
      "_________________________________________________________________\n",
      "dense_26 (Dense)             (None, 64)                4160      \n",
      "_________________________________________________________________\n",
      "batch_normalization_26 (Batc (None, 64)                256       \n",
      "_________________________________________________________________\n",
      "dropout_25 (Dropout)         (None, 64)                0         \n",
      "_________________________________________________________________\n",
      "dense_27 (Dense)             (None, 64)                4160      \n",
      "_________________________________________________________________\n",
      "batch_normalization_27 (Batc (None, 64)                256       \n",
      "_________________________________________________________________\n",
      "dropout_26 (Dropout)         (None, 64)                0         \n",
      "_________________________________________________________________\n",
      "dense_28 (Dense)             (None, 64)                4160      \n",
      "_________________________________________________________________\n",
      "batch_normalization_28 (Batc (None, 64)                256       \n",
      "_________________________________________________________________\n",
      "dropout_27 (Dropout)         (None, 64)                0         \n",
      "_________________________________________________________________\n",
      "dense_29 (Dense)             (None, 64)                4160      \n",
      "_________________________________________________________________\n",
      "batch_normalization_29 (Batc (None, 64)                256       \n",
      "_________________________________________________________________\n",
      "dropout_28 (Dropout)         (None, 64)                0         \n",
      "_________________________________________________________________\n",
      "dense_30 (Dense)             (None, 64)                4160      \n",
      "_________________________________________________________________\n",
      "batch_normalization_30 (Batc (None, 64)                256       \n",
      "_________________________________________________________________\n",
      "dropout_29 (Dropout)         (None, 64)                0         \n",
      "_________________________________________________________________\n",
      "dense_31 (Dense)             (None, 64)                4160      \n",
      "_________________________________________________________________\n",
      "batch_normalization_31 (Batc (None, 64)                256       \n",
      "_________________________________________________________________\n",
      "dropout_30 (Dropout)         (None, 64)                0         \n",
      "_________________________________________________________________\n",
      "dense_32 (Dense)             (None, 64)                4160      \n",
      "_________________________________________________________________\n",
      "batch_normalization_32 (Batc (None, 64)                256       \n",
      "_________________________________________________________________\n",
      "dropout_31 (Dropout)         (None, 64)                0         \n",
      "_________________________________________________________________\n",
      "dense_33 (Dense)             (None, 64)                4160      \n",
      "_________________________________________________________________\n",
      "batch_normalization_33 (Batc (None, 64)                256       \n",
      "_________________________________________________________________\n",
      "dropout_32 (Dropout)         (None, 64)                0         \n",
      "_________________________________________________________________\n",
      "dense_34 (Dense)             (None, 64)                4160      \n",
      "_________________________________________________________________\n",
      "batch_normalization_34 (Batc (None, 64)                256       \n",
      "_________________________________________________________________\n",
      "dropout_33 (Dropout)         (None, 64)                0         \n",
      "_________________________________________________________________\n",
      "dense_35 (Dense)             (None, 64)                4160      \n",
      "_________________________________________________________________\n",
      "batch_normalization_35 (Batc (None, 64)                256       \n",
      "_________________________________________________________________\n",
      "dropout_34 (Dropout)         (None, 64)                0         \n",
      "_________________________________________________________________\n",
      "dense_36 (Dense)             (None, 64)                4160      \n",
      "_________________________________________________________________\n",
      "batch_normalization_36 (Batc (None, 64)                256       \n",
      "_________________________________________________________________\n",
      "dropout_35 (Dropout)         (None, 64)                0         \n",
      "_________________________________________________________________\n",
      "dense_37 (Dense)             (None, 64)                4160      \n",
      "_________________________________________________________________\n",
      "batch_normalization_37 (Batc (None, 64)                256       \n",
      "_________________________________________________________________\n",
      "dropout_36 (Dropout)         (None, 64)                0         \n",
      "_________________________________________________________________\n",
      "dense_38 (Dense)             (None, 64)                4160      \n",
      "_________________________________________________________________\n",
      "batch_normalization_38 (Batc (None, 64)                256       \n",
      "_________________________________________________________________\n",
      "dropout_37 (Dropout)         (None, 64)                0         \n",
      "_________________________________________________________________\n",
      "dense_39 (Dense)             (None, 64)                4160      \n",
      "_________________________________________________________________\n",
      "batch_normalization_39 (Batc (None, 64)                256       \n",
      "_________________________________________________________________\n",
      "dropout_38 (Dropout)         (None, 64)                0         \n",
      "_________________________________________________________________\n",
      "dense_40 (Dense)             (None, 64)                4160      \n",
      "_________________________________________________________________\n",
      "batch_normalization_40 (Batc (None, 64)                256       \n",
      "_________________________________________________________________\n",
      "dropout_39 (Dropout)         (None, 64)                0         \n",
      "_________________________________________________________________\n",
      "dense_41 (Dense)             (None, 64)                4160      \n",
      "_________________________________________________________________\n",
      "batch_normalization_41 (Batc (None, 64)                256       \n",
      "_________________________________________________________________\n",
      "dropout_40 (Dropout)         (None, 64)                0         \n",
      "_________________________________________________________________\n",
      "dense_42 (Dense)             (None, 64)                4160      \n",
      "_________________________________________________________________\n",
      "batch_normalization_42 (Batc (None, 64)                256       \n",
      "_________________________________________________________________\n",
      "dropout_41 (Dropout)         (None, 64)                0         \n",
      "_________________________________________________________________\n",
      "dense_43 (Dense)             (None, 64)                4160      \n",
      "_________________________________________________________________\n",
      "batch_normalization_43 (Batc (None, 64)                256       \n",
      "_________________________________________________________________\n",
      "dropout_42 (Dropout)         (None, 64)                0         \n",
      "_________________________________________________________________\n",
      "dense_44 (Dense)             (None, 64)                4160      \n",
      "_________________________________________________________________\n",
      "batch_normalization_44 (Batc (None, 64)                256       \n",
      "_________________________________________________________________\n",
      "dropout_43 (Dropout)         (None, 64)                0         \n",
      "_________________________________________________________________\n",
      "dense_45 (Dense)             (None, 64)                4160      \n",
      "_________________________________________________________________\n",
      "batch_normalization_45 (Batc (None, 64)                256       \n",
      "_________________________________________________________________\n",
      "dropout_44 (Dropout)         (None, 64)                0         \n",
      "_________________________________________________________________\n",
      "dense_46 (Dense)             (None, 64)                4160      \n",
      "_________________________________________________________________\n",
      "batch_normalization_46 (Batc (None, 64)                256       \n",
      "_________________________________________________________________\n",
      "dropout_45 (Dropout)         (None, 64)                0         \n",
      "_________________________________________________________________\n",
      "dense_47 (Dense)             (None, 64)                4160      \n",
      "_________________________________________________________________\n",
      "batch_normalization_47 (Batc (None, 64)                256       \n",
      "_________________________________________________________________\n",
      "dropout_46 (Dropout)         (None, 64)                0         \n",
      "_________________________________________________________________\n",
      "dense_48 (Dense)             (None, 64)                4160      \n",
      "_________________________________________________________________\n",
      "batch_normalization_48 (Batc (None, 64)                256       \n",
      "_________________________________________________________________\n",
      "dropout_47 (Dropout)         (None, 64)                0         \n",
      "_________________________________________________________________\n",
      "dense_49 (Dense)             (None, 64)                4160      \n",
      "_________________________________________________________________\n",
      "batch_normalization_49 (Batc (None, 64)                256       \n",
      "_________________________________________________________________\n",
      "dropout_48 (Dropout)         (None, 64)                0         \n",
      "_________________________________________________________________\n",
      "dense_50 (Dense)             (None, 64)                4160      \n",
      "_________________________________________________________________\n",
      "batch_normalization_50 (Batc (None, 64)                256       \n",
      "_________________________________________________________________\n",
      "dropout_49 (Dropout)         (None, 64)                0         \n",
      "_________________________________________________________________\n",
      "dense_51 (Dense)             (None, 64)                4160      \n",
      "_________________________________________________________________\n",
      "batch_normalization_51 (Batc (None, 64)                256       \n",
      "_________________________________________________________________\n",
      "dropout_50 (Dropout)         (None, 64)                0         \n",
      "_________________________________________________________________\n",
      "dense_52 (Dense)             (None, 10)                650       \n",
      "_________________________________________________________________\n",
      "batch_normalization_52 (Batc (None, 10)                40        \n",
      "_________________________________________________________________\n",
      "activation_1 (Activation)    (None, 10)                0         \n",
      "=================================================================\n",
      "Total params: 271,986\n",
      "Trainable params: 265,438\n",
      "Non-trainable params: 6,548\n",
      "_________________________________________________________________\n"
     ]
    }
   ],
   "source": [
    "# 导入\n",
    "from keras import models\n",
    "from keras import layers\n",
    "from keras import regularizers\n",
    "from keras import initializers\n",
    "\n",
    "\n",
    "# 搭建网路\n",
    "network = models.Sequential()\n",
    "kernel_regularizer =  None #regularizers.l2(1)\n",
    "kernel_initializer= 'glorot_uniform'\n",
    "activation =None#layers.LeakyReLU(alpha=0.3)\n",
    "activation_layer = layers.LeakyReLU(alpha=0.3) #layers.Activation('relu')\n",
    "\n",
    "# 第一层\n",
    "network.add(layers.Dense(64, activation=activation, kernel_regularizer=kernel_regularizer, kernel_initializer=kernel_initializer, input_shape=(28 * 28,))) # relu\n",
    "network.add(layers.BatchNormalization())\n",
    "network.add(activation_layer)\n",
    "\n",
    "for i in range(50):\n",
    "    network.add(layers.Dense(64, activation=activation , kernel_regularizer=kernel_regularizer, kernel_initializer=kernel_initializer)) # relu, sigmoid\n",
    "    network.add(layers.BatchNormalization())\n",
    "    network.add(activation_layer)\n",
    "    \n",
    "network.add(layers.Dense(10, kernel_regularizer=kernel_regularizer, kernel_initializer=kernel_initializer))\n",
    "network.add(layers.BatchNormalization())\n",
    "network.add( layers.Activation('softmax'))\n",
    "\n",
    "network.summary()"
   ]
  },
  {
   "cell_type": "markdown",
   "metadata": {},
   "source": [
    "# 编译网络"
   ]
  },
  {
   "cell_type": "code",
   "execution_count": 15,
   "metadata": {
    "pycharm": {
     "name": "#%%"
    }
   },
   "outputs": [],
   "source": [
    "from keras import optimizers\n",
    "network.compile(optimizer=optimizers.adam(learning_rate=0.01), loss='categorical_crossentropy', metrics=['accuracy']) #mean_squared_error\n"
   ]
  },
  {
   "cell_type": "markdown",
   "metadata": {},
   "source": [
    "# 训练"
   ]
  },
  {
   "cell_type": "code",
   "execution_count": 16,
   "metadata": {},
   "outputs": [
    {
     "name": "stdout",
     "output_type": "stream",
     "text": [
      "Train on 5000 samples, validate on 1000 samples\n",
      "Epoch 1/200\n",
      "5000/5000 [==============================] - 26s 5ms/step - loss: 2.5287 - accuracy: 0.1022 - val_loss: 2.3026 - val_accuracy: 0.0870\n",
      "Epoch 2/200\n",
      "5000/5000 [==============================] - 1s 258us/step - loss: 2.3347 - accuracy: 0.1092 - val_loss: 2.2896 - val_accuracy: 0.1020\n",
      "Epoch 3/200\n",
      "5000/5000 [==============================] - 1s 259us/step - loss: 2.3103 - accuracy: 0.1054 - val_loss: 2.2999 - val_accuracy: 0.1180\n",
      "Epoch 4/200\n",
      "5000/5000 [==============================] - 1s 256us/step - loss: 2.3046 - accuracy: 0.1038 - val_loss: 2.3006 - val_accuracy: 0.1160\n",
      "Epoch 5/200\n",
      "5000/5000 [==============================] - 1s 259us/step - loss: 2.3040 - accuracy: 0.1130 - val_loss: 2.3007 - val_accuracy: 0.1170\n",
      "Epoch 6/200\n",
      "5000/5000 [==============================] - 1s 246us/step - loss: 2.3040 - accuracy: 0.1152 - val_loss: 2.3004 - val_accuracy: 0.1170\n",
      "Epoch 7/200\n",
      "5000/5000 [==============================] - 1s 242us/step - loss: 2.3044 - accuracy: 0.1092 - val_loss: 2.3007 - val_accuracy: 0.1170\n",
      "Epoch 8/200\n",
      "5000/5000 [==============================] - 1s 245us/step - loss: 2.3044 - accuracy: 0.1166 - val_loss: 2.3004 - val_accuracy: 0.1170\n",
      "Epoch 9/200\n",
      "5000/5000 [==============================] - 1s 248us/step - loss: 2.3021 - accuracy: 0.1172 - val_loss: 2.3007 - val_accuracy: 0.1170\n",
      "Epoch 10/200\n",
      "5000/5000 [==============================] - 1s 237us/step - loss: 2.2972 - accuracy: 0.1192 - val_loss: 2.3017 - val_accuracy: 0.1170\n",
      "Epoch 11/200\n",
      "5000/5000 [==============================] - 1s 234us/step - loss: 2.2909 - accuracy: 0.1276 - val_loss: 2.3015 - val_accuracy: 0.1170\n",
      "Epoch 12/200\n",
      "5000/5000 [==============================] - 1s 255us/step - loss: 2.2896 - accuracy: 0.1262 - val_loss: 2.3020 - val_accuracy: 0.1170\n",
      "Epoch 13/200\n",
      "5000/5000 [==============================] - 1s 250us/step - loss: 2.2705 - accuracy: 0.1390 - val_loss: 2.2142 - val_accuracy: 0.1750\n",
      "Epoch 14/200\n",
      "5000/5000 [==============================] - 1s 255us/step - loss: 2.2552 - accuracy: 0.1396 - val_loss: 2.1103 - val_accuracy: 0.1650\n",
      "Epoch 15/200\n",
      "5000/5000 [==============================] - 1s 246us/step - loss: 2.2415 - accuracy: 0.1432 - val_loss: 2.1299 - val_accuracy: 0.1950\n",
      "Epoch 16/200\n",
      "5000/5000 [==============================] - 1s 255us/step - loss: 2.2356 - accuracy: 0.1438 - val_loss: 2.2130 - val_accuracy: 0.1420\n",
      "Epoch 17/200\n",
      "5000/5000 [==============================] - 1s 283us/step - loss: 2.2245 - accuracy: 0.1512 - val_loss: 2.2200 - val_accuracy: 0.1420\n",
      "Epoch 18/200\n",
      "5000/5000 [==============================] - 1s 244us/step - loss: 2.2244 - accuracy: 0.1502 - val_loss: 2.2163 - val_accuracy: 0.1760\n",
      "Epoch 19/200\n",
      "5000/5000 [==============================] - 1s 247us/step - loss: 2.2245 - accuracy: 0.1446 - val_loss: 2.2375 - val_accuracy: 0.1600\n",
      "Epoch 20/200\n",
      "5000/5000 [==============================] - 1s 265us/step - loss: 2.2168 - accuracy: 0.1442 - val_loss: 2.2590 - val_accuracy: 0.1510\n",
      "Epoch 21/200\n",
      "5000/5000 [==============================] - 1s 243us/step - loss: 2.2139 - accuracy: 0.1480 - val_loss: 2.2720 - val_accuracy: 0.1420\n",
      "Epoch 22/200\n",
      "5000/5000 [==============================] - 1s 237us/step - loss: 2.2073 - accuracy: 0.1538 - val_loss: 2.2703 - val_accuracy: 0.1500\n",
      "Epoch 23/200\n",
      "5000/5000 [==============================] - 1s 282us/step - loss: 2.2123 - accuracy: 0.1504 - val_loss: 2.2201 - val_accuracy: 0.1710\n",
      "Epoch 24/200\n",
      "5000/5000 [==============================] - 1s 288us/step - loss: 2.2081 - accuracy: 0.1528 - val_loss: 2.1615 - val_accuracy: 0.1930\n",
      "Epoch 25/200\n",
      "5000/5000 [==============================] - 1s 240us/step - loss: 2.2155 - accuracy: 0.1528 - val_loss: 2.1398 - val_accuracy: 0.1970\n",
      "Epoch 26/200\n",
      "5000/5000 [==============================] - 1s 236us/step - loss: 2.2115 - accuracy: 0.1504 - val_loss: 2.1188 - val_accuracy: 0.1900\n",
      "Epoch 27/200\n",
      "5000/5000 [==============================] - 1s 238us/step - loss: 2.2031 - accuracy: 0.1564 - val_loss: 2.1693 - val_accuracy: 0.1830\n",
      "Epoch 28/200\n",
      "5000/5000 [==============================] - 1s 236us/step - loss: 2.2120 - accuracy: 0.1500 - val_loss: 2.2364 - val_accuracy: 0.1580\n",
      "Epoch 29/200\n",
      "5000/5000 [==============================] - 1s 237us/step - loss: 2.2043 - accuracy: 0.1524 - val_loss: 2.2887 - val_accuracy: 0.1270\n",
      "Epoch 30/200\n",
      "5000/5000 [==============================] - 1s 237us/step - loss: 2.2014 - accuracy: 0.1506 - val_loss: 2.2480 - val_accuracy: 0.1640\n",
      "Epoch 31/200\n",
      "5000/5000 [==============================] - 1s 235us/step - loss: 2.1884 - accuracy: 0.1556 - val_loss: 2.3400 - val_accuracy: 0.1170\n",
      "Epoch 32/200\n",
      "5000/5000 [==============================] - 1s 235us/step - loss: 2.1921 - accuracy: 0.1564 - val_loss: 2.3223 - val_accuracy: 0.1240\n",
      "Epoch 33/200\n",
      "5000/5000 [==============================] - 1s 236us/step - loss: 2.1889 - accuracy: 0.1588 - val_loss: 2.2168 - val_accuracy: 0.1820\n",
      "Epoch 34/200\n",
      "5000/5000 [==============================] - 1s 236us/step - loss: 2.1746 - accuracy: 0.1630 - val_loss: 2.2457 - val_accuracy: 0.1710\n",
      "Epoch 35/200\n",
      "5000/5000 [==============================] - 1s 235us/step - loss: 2.1686 - accuracy: 0.1642 - val_loss: 2.1454 - val_accuracy: 0.2010\n",
      "Epoch 36/200\n",
      "5000/5000 [==============================] - 1s 240us/step - loss: 2.1783 - accuracy: 0.1640 - val_loss: 2.0468 - val_accuracy: 0.2060\n",
      "Epoch 37/200\n",
      "5000/5000 [==============================] - 1s 235us/step - loss: 2.1740 - accuracy: 0.1660 - val_loss: 2.0177 - val_accuracy: 0.2120\n",
      "Epoch 38/200\n",
      "5000/5000 [==============================] - 1s 242us/step - loss: 2.1622 - accuracy: 0.1698 - val_loss: 2.0146 - val_accuracy: 0.2220\n",
      "Epoch 39/200\n",
      "5000/5000 [==============================] - 1s 237us/step - loss: 2.1607 - accuracy: 0.1694 - val_loss: 2.0119 - val_accuracy: 0.2080\n",
      "Epoch 40/200\n",
      "5000/5000 [==============================] - 1s 238us/step - loss: 2.1450 - accuracy: 0.1764 - val_loss: 2.0089 - val_accuracy: 0.2080\n",
      "Epoch 41/200\n",
      "5000/5000 [==============================] - 1s 251us/step - loss: 2.1453 - accuracy: 0.1752 - val_loss: 2.0093 - val_accuracy: 0.2080\n",
      "Epoch 42/200\n",
      "5000/5000 [==============================] - 1s 276us/step - loss: 2.1504 - accuracy: 0.1724 - val_loss: 2.0709 - val_accuracy: 0.2070\n",
      "Epoch 43/200\n",
      "5000/5000 [==============================] - 1s 247us/step - loss: 2.1409 - accuracy: 0.1632 - val_loss: 2.0422 - val_accuracy: 0.2070\n",
      "Epoch 44/200\n",
      "5000/5000 [==============================] - 1s 240us/step - loss: 2.1122 - accuracy: 0.1784 - val_loss: 1.9937 - val_accuracy: 0.2070\n",
      "Epoch 45/200\n",
      "5000/5000 [==============================] - 1s 263us/step - loss: 2.1033 - accuracy: 0.1826 - val_loss: 2.0396 - val_accuracy: 0.2060\n",
      "Epoch 46/200\n",
      "5000/5000 [==============================] - 1s 262us/step - loss: 2.0944 - accuracy: 0.1790 - val_loss: 2.0328 - val_accuracy: 0.2060\n",
      "Epoch 47/200\n",
      "5000/5000 [==============================] - 1s 244us/step - loss: 2.0839 - accuracy: 0.1826 - val_loss: 2.0121 - val_accuracy: 0.2050\n",
      "Epoch 48/200\n",
      "5000/5000 [==============================] - 1s 239us/step - loss: 2.1642 - accuracy: 0.1812 - val_loss: 2.1834 - val_accuracy: 0.2000\n",
      "Epoch 49/200\n",
      "5000/5000 [==============================] - 1s 241us/step - loss: 2.1252 - accuracy: 0.1824 - val_loss: 2.8348 - val_accuracy: 0.2040\n",
      "Epoch 50/200\n",
      "5000/5000 [==============================] - 1s 243us/step - loss: 2.1016 - accuracy: 0.1820 - val_loss: 2.1277 - val_accuracy: 0.2070\n",
      "Epoch 51/200\n",
      "5000/5000 [==============================] - 1s 240us/step - loss: 2.0924 - accuracy: 0.1844 - val_loss: 3.1030 - val_accuracy: 0.2070\n",
      "Epoch 52/200\n",
      "5000/5000 [==============================] - 1s 243us/step - loss: 2.0743 - accuracy: 0.1876 - val_loss: 2.1674 - val_accuracy: 0.2060\n",
      "Epoch 53/200\n",
      "5000/5000 [==============================] - 1s 252us/step - loss: 2.1617 - accuracy: 0.1786 - val_loss: 3.0213 - val_accuracy: 0.2050\n",
      "Epoch 54/200\n",
      "5000/5000 [==============================] - 1s 247us/step - loss: 2.1130 - accuracy: 0.1842 - val_loss: 10.8219 - val_accuracy: 0.2060\n",
      "Epoch 55/200\n",
      "5000/5000 [==============================] - 1s 242us/step - loss: 2.0743 - accuracy: 0.1908 - val_loss: 3.8636 - val_accuracy: 0.2080\n",
      "Epoch 56/200\n"
     ]
    },
    {
     "name": "stdout",
     "output_type": "stream",
     "text": [
      "5000/5000 [==============================] - 1s 245us/step - loss: 2.0533 - accuracy: 0.1946 - val_loss: 4.8595 - val_accuracy: 0.2100\n",
      "Epoch 57/200\n",
      "5000/5000 [==============================] - 1s 232us/step - loss: 2.0926 - accuracy: 0.1950 - val_loss: 2.8581 - val_accuracy: 0.2090\n",
      "Epoch 58/200\n",
      "5000/5000 [==============================] - 1s 237us/step - loss: 2.0825 - accuracy: 0.1918 - val_loss: 2.3279 - val_accuracy: 0.2100\n",
      "Epoch 59/200\n",
      "5000/5000 [==============================] - 1s 232us/step - loss: 2.1468 - accuracy: 0.1852 - val_loss: 2.1635 - val_accuracy: 0.1980\n",
      "Epoch 60/200\n",
      "5000/5000 [==============================] - 1s 234us/step - loss: 2.1839 - accuracy: 0.1702 - val_loss: 2.0393 - val_accuracy: 0.1860\n",
      "Epoch 61/200\n",
      "5000/5000 [==============================] - 1s 240us/step - loss: 2.2540 - accuracy: 0.1554 - val_loss: 2.2436 - val_accuracy: 0.2000\n",
      "Epoch 62/200\n",
      "5000/5000 [==============================] - 1s 238us/step - loss: 2.2831 - accuracy: 0.1498 - val_loss: 2.0930 - val_accuracy: 0.2080\n",
      "Epoch 63/200\n",
      "5000/5000 [==============================] - 1s 236us/step - loss: 2.2262 - accuracy: 0.1594 - val_loss: 2.0534 - val_accuracy: 0.2080\n",
      "Epoch 64/200\n",
      "5000/5000 [==============================] - 1s 231us/step - loss: 2.1921 - accuracy: 0.1792 - val_loss: 2.1146 - val_accuracy: 0.2090\n",
      "Epoch 65/200\n",
      "5000/5000 [==============================] - 1s 234us/step - loss: 2.1752 - accuracy: 0.1736 - val_loss: 2.1457 - val_accuracy: 0.2090\n",
      "Epoch 66/200\n",
      "5000/5000 [==============================] - 1s 240us/step - loss: 2.1529 - accuracy: 0.1814 - val_loss: 2.0545 - val_accuracy: 0.2080\n",
      "Epoch 67/200\n",
      "5000/5000 [==============================] - 1s 237us/step - loss: 2.1442 - accuracy: 0.1862 - val_loss: 2.1353 - val_accuracy: 0.2080\n",
      "Epoch 68/200\n",
      "5000/5000 [==============================] - 1s 234us/step - loss: 2.1305 - accuracy: 0.1888 - val_loss: 2.1089 - val_accuracy: 0.2070\n",
      "Epoch 69/200\n",
      "5000/5000 [==============================] - 1s 239us/step - loss: 2.1151 - accuracy: 0.1848 - val_loss: 2.0501 - val_accuracy: 0.2080\n",
      "Epoch 70/200\n",
      "5000/5000 [==============================] - 1s 231us/step - loss: 2.1134 - accuracy: 0.1894 - val_loss: 2.0184 - val_accuracy: 0.2090\n",
      "Epoch 71/200\n",
      "5000/5000 [==============================] - 1s 239us/step - loss: 2.1003 - accuracy: 0.1938 - val_loss: 1.9993 - val_accuracy: 0.2090\n",
      "Epoch 72/200\n",
      "5000/5000 [==============================] - 1s 255us/step - loss: 2.1103 - accuracy: 0.1954 - val_loss: 2.2274 - val_accuracy: 0.1880\n",
      "Epoch 73/200\n",
      "5000/5000 [==============================] - 2s 336us/step - loss: 2.2023 - accuracy: 0.1780 - val_loss: 2.1847 - val_accuracy: 0.1670\n",
      "Epoch 74/200\n",
      "5000/5000 [==============================] - 1s 287us/step - loss: 2.1496 - accuracy: 0.1746 - val_loss: 2.1326 - val_accuracy: 0.1930\n",
      "Epoch 75/200\n",
      "5000/5000 [==============================] - 1s 239us/step - loss: 2.2229 - accuracy: 0.1604 - val_loss: 2.4317 - val_accuracy: 0.1050\n",
      "Epoch 76/200\n",
      "5000/5000 [==============================] - 1s 254us/step - loss: 2.2870 - accuracy: 0.1488 - val_loss: 2.1755 - val_accuracy: 0.1470\n",
      "Epoch 77/200\n",
      "5000/5000 [==============================] - 1s 255us/step - loss: 2.2790 - accuracy: 0.1490 - val_loss: 2.2295 - val_accuracy: 0.1840\n",
      "Epoch 78/200\n",
      "5000/5000 [==============================] - 1s 263us/step - loss: 2.2574 - accuracy: 0.1538 - val_loss: 2.1827 - val_accuracy: 0.1860\n",
      "Epoch 79/200\n",
      "5000/5000 [==============================] - 1s 271us/step - loss: 2.2599 - accuracy: 0.1512 - val_loss: 2.1996 - val_accuracy: 0.1840\n",
      "Epoch 80/200\n",
      "5000/5000 [==============================] - 1s 247us/step - loss: 2.2596 - accuracy: 0.1528 - val_loss: 2.1914 - val_accuracy: 0.1370\n",
      "Epoch 81/200\n",
      "5000/5000 [==============================] - 1s 250us/step - loss: 2.2468 - accuracy: 0.1534 - val_loss: 2.1768 - val_accuracy: 0.1740\n",
      "Epoch 82/200\n",
      "5000/5000 [==============================] - 1s 253us/step - loss: 2.2325 - accuracy: 0.1576 - val_loss: 2.1597 - val_accuracy: 0.1760\n",
      "Epoch 83/200\n",
      "5000/5000 [==============================] - 1s 251us/step - loss: 2.2116 - accuracy: 0.1608 - val_loss: 2.1170 - val_accuracy: 0.2020\n",
      "Epoch 84/200\n",
      "5000/5000 [==============================] - 1s 257us/step - loss: 2.1837 - accuracy: 0.1690 - val_loss: 2.0952 - val_accuracy: 0.2040\n",
      "Epoch 85/200\n",
      "5000/5000 [==============================] - 1s 248us/step - loss: 2.1667 - accuracy: 0.1722 - val_loss: 2.0549 - val_accuracy: 0.2120\n",
      "Epoch 86/200\n",
      "5000/5000 [==============================] - 1s 265us/step - loss: 2.1521 - accuracy: 0.1798 - val_loss: 2.0028 - val_accuracy: 0.2170\n",
      "Epoch 87/200\n",
      "5000/5000 [==============================] - 1s 238us/step - loss: 2.1307 - accuracy: 0.1868 - val_loss: 1.9862 - val_accuracy: 0.2160\n",
      "Epoch 88/200\n",
      "5000/5000 [==============================] - 1s 238us/step - loss: 2.1105 - accuracy: 0.1838 - val_loss: 1.9826 - val_accuracy: 0.2150\n",
      "Epoch 89/200\n",
      "5000/5000 [==============================] - 1s 242us/step - loss: 2.0982 - accuracy: 0.1900 - val_loss: 1.9913 - val_accuracy: 0.1960\n",
      "Epoch 90/200\n",
      "5000/5000 [==============================] - 1s 240us/step - loss: 2.0938 - accuracy: 0.1814 - val_loss: 2.0378 - val_accuracy: 0.2070\n",
      "Epoch 91/200\n",
      "5000/5000 [==============================] - 1s 257us/step - loss: 2.1235 - accuracy: 0.1726 - val_loss: 2.1178 - val_accuracy: 0.2110\n",
      "Epoch 92/200\n",
      "5000/5000 [==============================] - 1s 244us/step - loss: 2.1384 - accuracy: 0.1730 - val_loss: 2.0923 - val_accuracy: 0.2100\n",
      "Epoch 93/200\n",
      "5000/5000 [==============================] - 1s 249us/step - loss: 2.1296 - accuracy: 0.1776 - val_loss: 2.0137 - val_accuracy: 0.2120\n",
      "Epoch 94/200\n",
      "5000/5000 [==============================] - 1s 249us/step - loss: 2.1233 - accuracy: 0.1734 - val_loss: 2.0119 - val_accuracy: 0.2120\n",
      "Epoch 95/200\n",
      "5000/5000 [==============================] - 1s 242us/step - loss: 2.1123 - accuracy: 0.1846 - val_loss: 2.0448 - val_accuracy: 0.2110\n",
      "Epoch 96/200\n",
      "5000/5000 [==============================] - 1s 242us/step - loss: 2.0899 - accuracy: 0.1848 - val_loss: 2.0890 - val_accuracy: 0.2110\n",
      "Epoch 97/200\n",
      "5000/5000 [==============================] - 1s 254us/step - loss: 2.0876 - accuracy: 0.1858 - val_loss: 2.0379 - val_accuracy: 0.2120\n",
      "Epoch 98/200\n",
      "5000/5000 [==============================] - 1s 252us/step - loss: 2.0669 - accuracy: 0.1914 - val_loss: 2.0331 - val_accuracy: 0.2100\n",
      "Epoch 99/200\n",
      "5000/5000 [==============================] - 1s 251us/step - loss: 2.0566 - accuracy: 0.1888 - val_loss: 2.0021 - val_accuracy: 0.2120\n",
      "Epoch 100/200\n",
      "5000/5000 [==============================] - 1s 252us/step - loss: 2.1304 - accuracy: 0.1728 - val_loss: 2.0056 - val_accuracy: 0.2130\n",
      "Epoch 101/200\n",
      "5000/5000 [==============================] - 1s 248us/step - loss: 2.2143 - accuracy: 0.1616 - val_loss: 2.0686 - val_accuracy: 0.2080\n",
      "Epoch 102/200\n",
      "5000/5000 [==============================] - 1s 253us/step - loss: 2.1790 - accuracy: 0.1658 - val_loss: 2.0342 - val_accuracy: 0.2100\n",
      "Epoch 103/200\n",
      "5000/5000 [==============================] - 1s 254us/step - loss: 2.1922 - accuracy: 0.1598 - val_loss: 2.0345 - val_accuracy: 0.2100\n",
      "Epoch 104/200\n",
      "5000/5000 [==============================] - 1s 258us/step - loss: 2.1594 - accuracy: 0.1730 - val_loss: 2.0276 - val_accuracy: 0.2100\n",
      "Epoch 105/200\n",
      "5000/5000 [==============================] - 1s 248us/step - loss: 2.1385 - accuracy: 0.1798 - val_loss: 2.0173 - val_accuracy: 0.2100\n",
      "Epoch 106/200\n",
      "5000/5000 [==============================] - 1s 246us/step - loss: 2.1322 - accuracy: 0.1716 - val_loss: 2.0066 - val_accuracy: 0.2100\n",
      "Epoch 107/200\n",
      "5000/5000 [==============================] - 1s 243us/step - loss: 2.1161 - accuracy: 0.1814 - val_loss: 1.9904 - val_accuracy: 0.2110\n",
      "Epoch 108/200\n",
      "5000/5000 [==============================] - 1s 239us/step - loss: 2.2681 - accuracy: 0.1468 - val_loss: 2.0319 - val_accuracy: 0.2130\n",
      "Epoch 109/200\n",
      "5000/5000 [==============================] - 1s 239us/step - loss: 2.2251 - accuracy: 0.1564 - val_loss: 2.0708 - val_accuracy: 0.2120\n",
      "Epoch 110/200\n",
      "5000/5000 [==============================] - 1s 241us/step - loss: 2.2056 - accuracy: 0.1628 - val_loss: 2.0655 - val_accuracy: 0.2030\n",
      "Epoch 111/200\n"
     ]
    },
    {
     "name": "stdout",
     "output_type": "stream",
     "text": [
      "5000/5000 [==============================] - 1s 235us/step - loss: 2.2104 - accuracy: 0.1524 - val_loss: 2.0960 - val_accuracy: 0.2170\n",
      "Epoch 112/200\n",
      "5000/5000 [==============================] - 1s 232us/step - loss: 2.2952 - accuracy: 0.1366 - val_loss: 2.1289 - val_accuracy: 0.2120\n",
      "Epoch 113/200\n",
      "5000/5000 [==============================] - 1s 234us/step - loss: 2.3007 - accuracy: 0.1338 - val_loss: 2.1596 - val_accuracy: 0.2150\n",
      "Epoch 114/200\n",
      "5000/5000 [==============================] - 1s 234us/step - loss: 2.2736 - accuracy: 0.1384 - val_loss: 2.1694 - val_accuracy: 0.2140\n",
      "Epoch 115/200\n",
      "5000/5000 [==============================] - 1s 232us/step - loss: 2.2725 - accuracy: 0.1392 - val_loss: 2.1655 - val_accuracy: 0.2140\n",
      "Epoch 116/200\n",
      "5000/5000 [==============================] - 1s 232us/step - loss: 2.2625 - accuracy: 0.1404 - val_loss: 2.1616 - val_accuracy: 0.2150\n",
      "Epoch 117/200\n",
      "5000/5000 [==============================] - 1s 233us/step - loss: 2.2577 - accuracy: 0.1466 - val_loss: 2.1555 - val_accuracy: 0.2130\n",
      "Epoch 118/200\n",
      "5000/5000 [==============================] - 1s 231us/step - loss: 2.2547 - accuracy: 0.1500 - val_loss: 2.1562 - val_accuracy: 0.2130\n",
      "Epoch 119/200\n",
      "5000/5000 [==============================] - 1s 237us/step - loss: 2.2526 - accuracy: 0.1508 - val_loss: 2.1512 - val_accuracy: 0.2100\n",
      "Epoch 120/200\n",
      "5000/5000 [==============================] - 1s 231us/step - loss: 2.2356 - accuracy: 0.1522 - val_loss: 2.1467 - val_accuracy: 0.2110\n",
      "Epoch 121/200\n",
      "5000/5000 [==============================] - 1s 236us/step - loss: 2.2402 - accuracy: 0.1496 - val_loss: 2.1477 - val_accuracy: 0.2110\n",
      "Epoch 122/200\n",
      "5000/5000 [==============================] - 1s 232us/step - loss: 2.2344 - accuracy: 0.1566 - val_loss: 2.1448 - val_accuracy: 0.2110\n",
      "Epoch 123/200\n",
      "5000/5000 [==============================] - 1s 234us/step - loss: 2.2194 - accuracy: 0.1652 - val_loss: 2.1317 - val_accuracy: 0.2110\n",
      "Epoch 124/200\n",
      "5000/5000 [==============================] - 1s 241us/step - loss: 2.2207 - accuracy: 0.1596 - val_loss: 2.1288 - val_accuracy: 0.2120\n",
      "Epoch 125/200\n",
      "5000/5000 [==============================] - 1s 242us/step - loss: 2.2330 - accuracy: 0.1516 - val_loss: 2.1341 - val_accuracy: 0.2130\n",
      "Epoch 126/200\n",
      "5000/5000 [==============================] - 1s 263us/step - loss: 2.2355 - accuracy: 0.1550 - val_loss: 2.1330 - val_accuracy: 0.2140\n",
      "Epoch 127/200\n",
      "5000/5000 [==============================] - 1s 262us/step - loss: 2.2200 - accuracy: 0.1558 - val_loss: 2.1342 - val_accuracy: 0.2140\n",
      "Epoch 128/200\n",
      "5000/5000 [==============================] - 1s 233us/step - loss: 2.2112 - accuracy: 0.1602 - val_loss: 2.1312 - val_accuracy: 0.2130\n",
      "Epoch 129/200\n",
      "5000/5000 [==============================] - 1s 232us/step - loss: 2.2062 - accuracy: 0.1632 - val_loss: 2.1257 - val_accuracy: 0.2130\n",
      "Epoch 130/200\n",
      "5000/5000 [==============================] - 1s 234us/step - loss: 2.2051 - accuracy: 0.1678 - val_loss: 2.1177 - val_accuracy: 0.2150\n",
      "Epoch 131/200\n",
      "5000/5000 [==============================] - 1s 233us/step - loss: 2.2000 - accuracy: 0.1706 - val_loss: 2.1149 - val_accuracy: 0.2150\n",
      "Epoch 132/200\n",
      "5000/5000 [==============================] - 1s 232us/step - loss: 2.2065 - accuracy: 0.1628 - val_loss: 2.1098 - val_accuracy: 0.2150\n",
      "Epoch 133/200\n",
      "5000/5000 [==============================] - 1s 233us/step - loss: 2.2073 - accuracy: 0.1652 - val_loss: 2.1169 - val_accuracy: 0.2160\n",
      "Epoch 134/200\n",
      "5000/5000 [==============================] - 1s 235us/step - loss: 2.1895 - accuracy: 0.1680 - val_loss: 2.1155 - val_accuracy: 0.2160\n",
      "Epoch 135/200\n",
      "5000/5000 [==============================] - 1s 237us/step - loss: 2.1835 - accuracy: 0.1706 - val_loss: 2.1144 - val_accuracy: 0.2160\n",
      "Epoch 136/200\n",
      "5000/5000 [==============================] - 1s 239us/step - loss: 2.1677 - accuracy: 0.1752 - val_loss: 2.1083 - val_accuracy: 0.2170\n",
      "Epoch 137/200\n",
      "5000/5000 [==============================] - 1s 233us/step - loss: 2.1605 - accuracy: 0.1748 - val_loss: 2.0986 - val_accuracy: 0.2170\n",
      "Epoch 138/200\n",
      "5000/5000 [==============================] - 1s 234us/step - loss: 2.1632 - accuracy: 0.1806 - val_loss: 2.0854 - val_accuracy: 0.2180\n",
      "Epoch 139/200\n",
      "5000/5000 [==============================] - 1s 232us/step - loss: 2.1560 - accuracy: 0.1760 - val_loss: 2.0854 - val_accuracy: 0.2170\n",
      "Epoch 140/200\n",
      "5000/5000 [==============================] - 1s 237us/step - loss: 2.1499 - accuracy: 0.1804 - val_loss: 2.0737 - val_accuracy: 0.2170\n",
      "Epoch 141/200\n",
      "5000/5000 [==============================] - 1s 233us/step - loss: 2.1610 - accuracy: 0.1790 - val_loss: 2.0778 - val_accuracy: 0.2170\n",
      "Epoch 142/200\n",
      "5000/5000 [==============================] - 1s 232us/step - loss: 2.1649 - accuracy: 0.1758 - val_loss: 2.0867 - val_accuracy: 0.2160\n",
      "Epoch 143/200\n",
      "5000/5000 [==============================] - 1s 232us/step - loss: 2.1835 - accuracy: 0.1756 - val_loss: 2.0842 - val_accuracy: 0.2130\n",
      "Epoch 144/200\n",
      "5000/5000 [==============================] - 1s 235us/step - loss: 2.1606 - accuracy: 0.1796 - val_loss: 2.0778 - val_accuracy: 0.2120\n",
      "Epoch 145/200\n",
      "5000/5000 [==============================] - 1s 235us/step - loss: 2.1530 - accuracy: 0.1820 - val_loss: 2.0772 - val_accuracy: 0.2110\n",
      "Epoch 146/200\n",
      "5000/5000 [==============================] - 1s 233us/step - loss: 2.1594 - accuracy: 0.1774 - val_loss: 2.0780 - val_accuracy: 0.2110\n",
      "Epoch 147/200\n",
      "5000/5000 [==============================] - 1s 232us/step - loss: 2.1739 - accuracy: 0.1778 - val_loss: 2.0795 - val_accuracy: 0.2110\n",
      "Epoch 148/200\n",
      "5000/5000 [==============================] - 1s 238us/step - loss: 2.1729 - accuracy: 0.1782 - val_loss: 2.0780 - val_accuracy: 0.2110\n",
      "Epoch 149/200\n",
      "5000/5000 [==============================] - 1s 233us/step - loss: 2.1629 - accuracy: 0.1800 - val_loss: 2.0724 - val_accuracy: 0.2120\n",
      "Epoch 150/200\n",
      "5000/5000 [==============================] - 1s 234us/step - loss: 2.1519 - accuracy: 0.1830 - val_loss: 2.0637 - val_accuracy: 0.2140\n",
      "Epoch 151/200\n",
      "5000/5000 [==============================] - 1s 232us/step - loss: 2.1448 - accuracy: 0.1800 - val_loss: 2.0538 - val_accuracy: 0.2150\n",
      "Epoch 152/200\n",
      "5000/5000 [==============================] - 1s 233us/step - loss: 2.1427 - accuracy: 0.1810 - val_loss: 2.0586 - val_accuracy: 0.2150\n",
      "Epoch 153/200\n",
      "5000/5000 [==============================] - 1s 241us/step - loss: 2.1248 - accuracy: 0.1872 - val_loss: 2.0535 - val_accuracy: 0.2150\n",
      "Epoch 154/200\n",
      "5000/5000 [==============================] - 1s 242us/step - loss: 2.1231 - accuracy: 0.1916 - val_loss: 2.0526 - val_accuracy: 0.2130\n",
      "Epoch 155/200\n",
      "5000/5000 [==============================] - 1s 249us/step - loss: 2.1106 - accuracy: 0.1878 - val_loss: 2.0479 - val_accuracy: 0.2120\n",
      "Epoch 156/200\n",
      "5000/5000 [==============================] - 1s 261us/step - loss: 2.1047 - accuracy: 0.1908 - val_loss: 2.0483 - val_accuracy: 0.2130\n",
      "Epoch 157/200\n",
      "5000/5000 [==============================] - 1s 237us/step - loss: 2.0996 - accuracy: 0.1960 - val_loss: 2.0431 - val_accuracy: 0.2120\n",
      "Epoch 158/200\n",
      "5000/5000 [==============================] - 1s 236us/step - loss: 2.0950 - accuracy: 0.1926 - val_loss: 2.0372 - val_accuracy: 0.2130\n",
      "Epoch 159/200\n",
      "5000/5000 [==============================] - 1s 237us/step - loss: 2.0840 - accuracy: 0.1926 - val_loss: 2.0544 - val_accuracy: 0.2130\n",
      "Epoch 160/200\n",
      "5000/5000 [==============================] - 1s 240us/step - loss: 2.1020 - accuracy: 0.1888 - val_loss: 2.0385 - val_accuracy: 0.2130\n",
      "Epoch 161/200\n",
      "5000/5000 [==============================] - 1s 245us/step - loss: 2.0984 - accuracy: 0.1870 - val_loss: 2.0256 - val_accuracy: 0.2170\n",
      "Epoch 162/200\n",
      "5000/5000 [==============================] - 1s 241us/step - loss: 2.0819 - accuracy: 0.1884 - val_loss: 2.0274 - val_accuracy: 0.2180\n",
      "Epoch 163/200\n",
      "5000/5000 [==============================] - 1s 249us/step - loss: 2.0821 - accuracy: 0.1872 - val_loss: 2.0204 - val_accuracy: 0.2180\n",
      "Epoch 164/200\n",
      "5000/5000 [==============================] - 1s 245us/step - loss: 2.0608 - accuracy: 0.1944 - val_loss: 2.0112 - val_accuracy: 0.2170\n",
      "Epoch 165/200\n",
      "5000/5000 [==============================] - 1s 237us/step - loss: 2.0548 - accuracy: 0.1926 - val_loss: 2.0088 - val_accuracy: 0.2170\n",
      "Epoch 166/200\n"
     ]
    },
    {
     "name": "stdout",
     "output_type": "stream",
     "text": [
      "5000/5000 [==============================] - 1s 231us/step - loss: 2.0633 - accuracy: 0.1956 - val_loss: 2.0013 - val_accuracy: 0.2170\n",
      "Epoch 167/200\n",
      "5000/5000 [==============================] - 1s 231us/step - loss: 2.0430 - accuracy: 0.1974 - val_loss: 1.9767 - val_accuracy: 0.2210\n",
      "Epoch 168/200\n",
      "5000/5000 [==============================] - 1s 231us/step - loss: 2.0341 - accuracy: 0.1912 - val_loss: 1.9807 - val_accuracy: 0.1990\n",
      "Epoch 169/200\n",
      "5000/5000 [==============================] - 1s 235us/step - loss: 2.0313 - accuracy: 0.2004 - val_loss: 1.9650 - val_accuracy: 0.2250\n",
      "Epoch 170/200\n",
      "5000/5000 [==============================] - 1s 235us/step - loss: 2.0352 - accuracy: 0.1990 - val_loss: 1.9625 - val_accuracy: 0.2260\n",
      "Epoch 171/200\n",
      "5000/5000 [==============================] - 1s 231us/step - loss: 2.0461 - accuracy: 0.1940 - val_loss: 1.9660 - val_accuracy: 0.2260\n",
      "Epoch 172/200\n",
      "5000/5000 [==============================] - 1s 232us/step - loss: 2.0292 - accuracy: 0.1950 - val_loss: 1.9653 - val_accuracy: 0.2260\n",
      "Epoch 173/200\n",
      "5000/5000 [==============================] - 1s 234us/step - loss: 2.0326 - accuracy: 0.1962 - val_loss: 1.9696 - val_accuracy: 0.2260\n",
      "Epoch 174/200\n",
      "5000/5000 [==============================] - 1s 232us/step - loss: 2.0288 - accuracy: 0.1926 - val_loss: 1.9645 - val_accuracy: 0.2110\n",
      "Epoch 175/200\n",
      "5000/5000 [==============================] - 1s 232us/step - loss: 2.0365 - accuracy: 0.1916 - val_loss: 1.9640 - val_accuracy: 0.2040\n",
      "Epoch 176/200\n",
      "5000/5000 [==============================] - 1s 234us/step - loss: 2.0255 - accuracy: 0.1948 - val_loss: 1.9606 - val_accuracy: 0.2530\n",
      "Epoch 177/200\n",
      "5000/5000 [==============================] - 1s 231us/step - loss: 2.0309 - accuracy: 0.1976 - val_loss: 1.9613 - val_accuracy: 0.2260\n",
      "Epoch 178/200\n",
      "5000/5000 [==============================] - 1s 241us/step - loss: 2.0308 - accuracy: 0.1896 - val_loss: 1.9678 - val_accuracy: 0.2240\n",
      "Epoch 179/200\n",
      "5000/5000 [==============================] - 1s 231us/step - loss: 2.0418 - accuracy: 0.1868 - val_loss: 1.9651 - val_accuracy: 0.2250\n",
      "Epoch 180/200\n",
      "5000/5000 [==============================] - 1s 233us/step - loss: 2.0428 - accuracy: 0.1894 - val_loss: 1.9866 - val_accuracy: 0.2220\n",
      "Epoch 181/200\n",
      "5000/5000 [==============================] - 1s 230us/step - loss: 2.1089 - accuracy: 0.1786 - val_loss: 2.9555 - val_accuracy: 0.1960\n",
      "Epoch 182/200\n",
      "5000/5000 [==============================] - 1s 243us/step - loss: 2.3002 - accuracy: 0.1564 - val_loss: 4.3719 - val_accuracy: 0.1860\n",
      "Epoch 183/200\n",
      "5000/5000 [==============================] - 1s 263us/step - loss: 2.2195 - accuracy: 0.1604 - val_loss: 2.4713 - val_accuracy: 0.2040\n",
      "Epoch 184/200\n",
      "5000/5000 [==============================] - 1s 233us/step - loss: 2.2197 - accuracy: 0.1640 - val_loss: 2.1827 - val_accuracy: 0.2080\n",
      "Epoch 185/200\n",
      "5000/5000 [==============================] - 1s 233us/step - loss: 2.1984 - accuracy: 0.1664 - val_loss: 2.1101 - val_accuracy: 0.2080\n",
      "Epoch 186/200\n",
      "5000/5000 [==============================] - 1s 237us/step - loss: 2.1822 - accuracy: 0.1698 - val_loss: 2.0946 - val_accuracy: 0.2070\n",
      "Epoch 187/200\n",
      "5000/5000 [==============================] - 1s 237us/step - loss: 2.1776 - accuracy: 0.1708 - val_loss: 2.0845 - val_accuracy: 0.2070\n",
      "Epoch 188/200\n",
      "5000/5000 [==============================] - 1s 234us/step - loss: 2.1799 - accuracy: 0.1698 - val_loss: 2.0697 - val_accuracy: 0.2030\n",
      "Epoch 189/200\n",
      "5000/5000 [==============================] - 1s 236us/step - loss: 2.1720 - accuracy: 0.1724 - val_loss: 2.0407 - val_accuracy: 0.2010\n",
      "Epoch 190/200\n",
      "5000/5000 [==============================] - 1s 236us/step - loss: 2.1662 - accuracy: 0.1736 - val_loss: 2.0180 - val_accuracy: 0.2070\n",
      "Epoch 191/200\n",
      "5000/5000 [==============================] - 1s 234us/step - loss: 2.1523 - accuracy: 0.1718 - val_loss: 2.0083 - val_accuracy: 0.2060\n",
      "Epoch 192/200\n",
      "5000/5000 [==============================] - 1s 232us/step - loss: 2.1411 - accuracy: 0.1690 - val_loss: 2.0009 - val_accuracy: 0.2080\n",
      "Epoch 193/200\n",
      "5000/5000 [==============================] - 1s 233us/step - loss: 2.1396 - accuracy: 0.1756 - val_loss: 2.0119 - val_accuracy: 0.2100\n",
      "Epoch 194/200\n",
      "5000/5000 [==============================] - 1s 231us/step - loss: 2.1443 - accuracy: 0.1774 - val_loss: 2.0128 - val_accuracy: 0.2090\n",
      "Epoch 195/200\n",
      "5000/5000 [==============================] - 1s 237us/step - loss: 2.1520 - accuracy: 0.1748 - val_loss: 2.0123 - val_accuracy: 0.2100\n",
      "Epoch 196/200\n",
      "5000/5000 [==============================] - 1s 232us/step - loss: 2.1421 - accuracy: 0.1772 - val_loss: 2.0278 - val_accuracy: 0.2080\n",
      "Epoch 197/200\n",
      "5000/5000 [==============================] - 1s 232us/step - loss: 2.1849 - accuracy: 0.1654 - val_loss: 2.1342 - val_accuracy: 0.1830\n",
      "Epoch 198/200\n",
      "5000/5000 [==============================] - 1s 234us/step - loss: 2.2355 - accuracy: 0.1556 - val_loss: 2.1394 - val_accuracy: 0.1830\n",
      "Epoch 199/200\n",
      "5000/5000 [==============================] - 1s 233us/step - loss: 2.2292 - accuracy: 0.1556 - val_loss: 2.1369 - val_accuracy: 0.1880\n",
      "Epoch 200/200\n",
      "5000/5000 [==============================] - 1s 232us/step - loss: 2.2205 - accuracy: 0.1488 - val_loss: 2.1227 - val_accuracy: 0.1930\n"
     ]
    }
   ],
   "source": [
    "history = network.fit(train_vectors_norm, train_one_hots, epochs=200, batch_size=256, validation_data=(val_vectors_norm, val_one_hots))"
   ]
  },
  {
   "cell_type": "code",
   "execution_count": null,
   "metadata": {},
   "outputs": [],
   "source": []
  },
  {
   "cell_type": "code",
   "execution_count": 17,
   "metadata": {},
   "outputs": [],
   "source": [
    "# 取出训练的中间数据：损失和准确度\n",
    "history_dict = history.history\n",
    "loss_values = history_dict['loss']\n",
    "val_loss_values = history_dict['val_loss']\n",
    "acc_values = history_dict['accuracy']\n",
    "val_acc_values = history_dict['val_accuracy']"
   ]
  },
  {
   "cell_type": "code",
   "execution_count": 18,
   "metadata": {},
   "outputs": [
    {
     "name": "stdout",
     "output_type": "stream",
     "text": [
      "训练集准确率为：14.88%， 验证集准确率为：19.3%\n"
     ]
    }
   ],
   "source": [
    "# 查看准确率\n",
    "train_best_acc = f'{round(acc_values[-1]*100,2)}%'\n",
    "val_best_acc =  f'{round(val_acc_values[-1]*100,2)}%'\n",
    "print(f\"训练集准确率为：{train_best_acc}， 验证集准确率为：{val_best_acc}\")"
   ]
  },
  {
   "cell_type": "markdown",
   "metadata": {},
   "source": [
    "# 作图"
   ]
  },
  {
   "cell_type": "code",
   "execution_count": 19,
   "metadata": {},
   "outputs": [
    {
     "data": {
      "image/png": "[encoded data removed]",
      "text/plain": [
       "<Figure size 432x288 with 2 Axes>"
      ]
     },
     "metadata": {
      "needs_background": "light"
     },
     "output_type": "display_data"
    }
   ],
   "source": [
    "\n",
    "fig, axes = plt.subplots(2,1)\n",
    "epochs = range(1, len(loss_values) + 1)\n",
    "\n",
    "# 损失\n",
    "axes[0].plot(epochs, loss_values, 'b-o', label='Training loss')\n",
    "axes[0].plot(epochs, val_loss_values, 'r-o', label='Validation loss')\n",
    "axes[0].legend()\n",
    "axes[0].set_title('loss')\n",
    "\n",
    "# 准确度\n",
    "axes[1].plot(epochs, acc_values, 'b-o', label=f'Training (best: {train_best_acc})')\n",
    "axes[1].plot(epochs, val_acc_values, 'r-o', label=f'Validation (best: {val_best_acc})')\n",
    "axes[1].legend()\n",
    "axes[1].set_title('accuary')\n",
    "axes[1].set_ylim([0, 1])\n",
    "\n",
    "plt.tight_layout()\n",
    "plt.show()"
   ]
  },
  {
   "cell_type": "markdown",
   "metadata": {},
   "source": [
    "# 测试"
   ]
  },
  {
   "cell_type": "code",
   "execution_count": 20,
   "metadata": {},
   "outputs": [
    {
     "name": "stdout",
     "output_type": "stream",
     "text": [
      "10000/10000 [==============================] - 2s 180us/step\n"
     ]
    }
   ],
   "source": [
    "test_loss, test_acc = network.evaluate(test_vectors_norm, test_one_hots)"
   ]
  },
  {
   "cell_type": "markdown",
   "metadata": {},
   "source": [
    "# 自定义预测"
   ]
  },
  {
   "cell_type": "code",
   "execution_count": 21,
   "metadata": {},
   "outputs": [
    {
     "data": {
      "text/plain": [
       "(784,)"
      ]
     },
     "execution_count": 21,
     "metadata": {},
     "output_type": "execute_result"
    }
   ],
   "source": [
    "# network.predict(test_vectors_norm[0])\n",
    "test_vectors_norm[0].shape"
   ]
  }
 ],
 "metadata": {
  "kernelspec": {
   "display_name": "Python 3",
   "language": "python",
   "name": "python3"
  },
  "language_info": {
   "codemirror_mode": {
    "name": "ipython",
    "version": 3
   },
   "file_extension": ".py",
   "mimetype": "text/x-python",
   "name": "python",
   "nbconvert_exporter": "python",
   "pygments_lexer": "ipython3",
   "version": "3.7.3"
  }
 },
 "nbformat": 4,
 "nbformat_minor": 1
}
