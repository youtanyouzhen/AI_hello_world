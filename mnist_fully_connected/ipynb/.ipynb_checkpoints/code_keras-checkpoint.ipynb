{
 "cells": [
  {
   "cell_type": "markdown",
   "metadata": {},
   "source": [
    "# 参数"
   ]
  },
  {
   "cell_type": "code",
   "execution_count": 57,
   "metadata": {},
   "outputs": [],
   "source": [
    "TRAIN_SIZE = 5000\n",
    "VAL_SIZE = 1000"
   ]
  },
  {
   "cell_type": "markdown",
   "metadata": {},
   "source": [
    "# 导入mnist数据集"
   ]
  },
  {
   "cell_type": "code",
   "execution_count": 58,
   "metadata": {
    "pycharm": {}
   },
   "outputs": [],
   "source": [
    "import tensorflow.keras as keras\n",
    "# 导入mnist\n",
    "from keras.datasets import mnist"
   ]
  },
  {
   "cell_type": "code",
   "execution_count": 59,
   "metadata": {},
   "outputs": [],
   "source": [
    "# 拆分训练集和测试集\n",
    "(train_images, train_labels), (test_images, test_labels) = mnist.load_data()"
   ]
  },
  {
   "cell_type": "markdown",
   "metadata": {
    "pycharm": {}
   },
   "source": [
    "# 查看训练数据"
   ]
  },
  {
   "cell_type": "code",
   "execution_count": 60,
   "metadata": {},
   "outputs": [
    {
     "data": {
      "text/plain": [
       "numpy.ndarray"
      ]
     },
     "execution_count": 60,
     "metadata": {},
     "output_type": "execute_result"
    }
   ],
   "source": [
    "# 查看数据类型\n",
    "type(train_images)"
   ]
  },
  {
   "cell_type": "code",
   "execution_count": 61,
   "metadata": {
    "pycharm": {}
   },
   "outputs": [
    {
     "data": {
      "text/plain": [
       "(60000, 28, 28)"
      ]
     },
     "execution_count": 61,
     "metadata": {},
     "output_type": "execute_result"
    }
   ],
   "source": [
    "train_images.shape"
   ]
  },
  {
   "cell_type": "code",
   "execution_count": 62,
   "metadata": {
    "pycharm": {}
   },
   "outputs": [
    {
     "data": {
      "text/plain": [
       "array([5, 0, 4, ..., 5, 6, 8], dtype=uint8)"
      ]
     },
     "execution_count": 62,
     "metadata": {},
     "output_type": "execute_result"
    }
   ],
   "source": [
    "train_labels"
   ]
  },
  {
   "cell_type": "markdown",
   "metadata": {
    "pycharm": {}
   },
   "source": [
    "# 查看测试数据"
   ]
  },
  {
   "cell_type": "code",
   "execution_count": 63,
   "metadata": {
    "pycharm": {}
   },
   "outputs": [
    {
     "data": {
      "text/plain": [
       "(10000, 28, 28)"
      ]
     },
     "execution_count": 63,
     "metadata": {},
     "output_type": "execute_result"
    }
   ],
   "source": [
    "test_images.shape"
   ]
  },
  {
   "cell_type": "code",
   "execution_count": 64,
   "metadata": {
    "pycharm": {}
   },
   "outputs": [
    {
     "data": {
      "text/plain": [
       "array([7, 2, 1, ..., 4, 5, 6], dtype=uint8)"
      ]
     },
     "execution_count": 64,
     "metadata": {},
     "output_type": "execute_result"
    }
   ],
   "source": [
    "test_labels"
   ]
  },
  {
   "cell_type": "markdown",
   "metadata": {},
   "source": [
    "# 作图查看mnist"
   ]
  },
  {
   "cell_type": "code",
   "execution_count": 65,
   "metadata": {},
   "outputs": [
    {
     "data": {
      "image/png": "[encoded data removed]",
      "text/plain": [
       "<Figure size 432x288 with 1 Axes>"
      ]
     },
     "metadata": {
      "needs_background": "light"
     },
     "output_type": "display_data"
    }
   ],
   "source": [
    "import numpy as np\n",
    "import matplotlib.pyplot as plt\n",
    "digits = np.concatenate(train_images[:10], axis=1) \n",
    "plt.imshow(digits)\n",
    "plt.show()"
   ]
  },
  {
   "cell_type": "markdown",
   "metadata": {},
   "source": [
    "# 从训练集中提取出验证集"
   ]
  },
  {
   "cell_type": "code",
   "execution_count": 66,
   "metadata": {},
   "outputs": [
    {
     "data": {
      "text/plain": [
       "(5000, 28, 28)"
      ]
     },
     "execution_count": 66,
     "metadata": {},
     "output_type": "execute_result"
    }
   ],
   "source": [
    "val_images, val_labels = train_images[:VAL_SIZE], train_labels[:VAL_SIZE]\n",
    "new_train_images, new_train_labels = train_images[-TRAIN_SIZE:], train_labels[-TRAIN_SIZE:]\n",
    "new_train_images.shape"
   ]
  },
  {
   "cell_type": "markdown",
   "metadata": {},
   "source": [
    "# 输入输出转成向量——可以用flatten层代替"
   ]
  },
  {
   "cell_type": "code",
   "execution_count": 67,
   "metadata": {},
   "outputs": [
    {
     "data": {
      "text/plain": [
       "(5000, 784)"
      ]
     },
     "execution_count": 67,
     "metadata": {},
     "output_type": "execute_result"
    }
   ],
   "source": [
    "#  输入的28*28图像转成向量  用flatten\n",
    "train_vectors = new_train_images.reshape((TRAIN_SIZE, 28 * 28))\n",
    "test_vectors = test_images.reshape((10000, 28 * 28))\n",
    "val_vectors = val_images.reshape((VAL_SIZE, 28 * 28))\n",
    "\n",
    "# 检查训练集输入\n",
    "train_vectors.shape"
   ]
  },
  {
   "cell_type": "code",
   "execution_count": 68,
   "metadata": {},
   "outputs": [
    {
     "data": {
      "text/plain": [
       "(5000, 10)"
      ]
     },
     "execution_count": 68,
     "metadata": {},
     "output_type": "execute_result"
    }
   ],
   "source": [
    "from keras.utils import to_categorical\n",
    "\n",
    "# 将labels转为one-hot向量\n",
    "train_one_hots = to_categorical(new_train_labels)\n",
    "test_one_hots = to_categorical(test_labels)\n",
    "val_one_hots = to_categorical(val_labels)\n",
    "\n",
    "# 检查训练集输出\n",
    "train_one_hots.shape"
   ]
  },
  {
   "cell_type": "markdown",
   "metadata": {},
   "source": [
    "# 归一化"
   ]
  },
  {
   "cell_type": "code",
   "execution_count": 69,
   "metadata": {},
   "outputs": [
    {
     "name": "stdout",
     "output_type": "stream",
     "text": [
      "归一化前： [  0   0   0   0   0   0   0   0   0   0   0   0   0   0   0   0   0   0\n",
      "   0   0  38 237 220  11   0   0   0   0   0   0   0   0   0   0   0   0\n",
      "   0   0   0   0]\n",
      "\n",
      "归一化后： [0.         0.         0.         0.         0.         0.\n",
      " 0.         0.         0.         0.         0.         0.\n",
      " 0.         0.         0.         0.         0.         0.\n",
      " 0.         0.         0.14901961 0.92941177 0.8627451  0.04313726\n",
      " 0.         0.         0.         0.         0.         0.\n",
      " 0.         0.         0.         0.         0.         0.\n",
      " 0.         0.         0.         0.        ]\n"
     ]
    }
   ],
   "source": [
    "print('归一化前：', train_vectors[0][110:150])\n",
    "print()\n",
    "\n",
    "train_vectors_norm = train_vectors.astype('float32') / 255\n",
    "test_vectors_norm = test_vectors.astype('float32') / 255\n",
    "val_vectors_norm = val_vectors.astype('float32') / 255\n",
    "\n",
    "print('归一化后：', train_vectors_norm[0][110:150])"
   ]
  },
  {
   "cell_type": "markdown",
   "metadata": {
    "pycharm": {}
   },
   "source": [
    "# 搭建网络"
   ]
  },
  {
   "cell_type": "code",
   "execution_count": 70,
   "metadata": {
    "pycharm": {}
   },
   "outputs": [
    {
     "name": "stdout",
     "output_type": "stream",
     "text": [
      "Model: \"sequential_11\"\n",
      "_________________________________________________________________\n",
      "Layer (type)                 Output Shape              Param #   \n",
      "=================================================================\n",
      "dense_187 (Dense)            (None, 64)                50240     \n",
      "_________________________________________________________________\n",
      "batch_normalization_1 (Batch (None, 64)                256       \n",
      "_________________________________________________________________\n",
      "leaky_re_lu_2 (LeakyReLU)    (None, 64)                0         \n",
      "_________________________________________________________________\n",
      "dense_188 (Dense)            (None, 64)                4160      \n",
      "_________________________________________________________________\n",
      "batch_normalization_2 (Batch (None, 64)                256       \n",
      "_________________________________________________________________\n",
      "dense_189 (Dense)            (None, 64)                4160      \n",
      "_________________________________________________________________\n",
      "batch_normalization_3 (Batch (None, 64)                256       \n",
      "_________________________________________________________________\n",
      "dense_190 (Dense)            (None, 64)                4160      \n",
      "_________________________________________________________________\n",
      "batch_normalization_4 (Batch (None, 64)                256       \n",
      "_________________________________________________________________\n",
      "dense_191 (Dense)            (None, 64)                4160      \n",
      "_________________________________________________________________\n",
      "batch_normalization_5 (Batch (None, 64)                256       \n",
      "_________________________________________________________________\n",
      "dense_192 (Dense)            (None, 64)                4160      \n",
      "_________________________________________________________________\n",
      "batch_normalization_6 (Batch (None, 64)                256       \n",
      "_________________________________________________________________\n",
      "dense_193 (Dense)            (None, 64)                4160      \n",
      "_________________________________________________________________\n",
      "batch_normalization_7 (Batch (None, 64)                256       \n",
      "_________________________________________________________________\n",
      "dense_194 (Dense)            (None, 64)                4160      \n",
      "_________________________________________________________________\n",
      "batch_normalization_8 (Batch (None, 64)                256       \n",
      "_________________________________________________________________\n",
      "dense_195 (Dense)            (None, 64)                4160      \n",
      "_________________________________________________________________\n",
      "batch_normalization_9 (Batch (None, 64)                256       \n",
      "_________________________________________________________________\n",
      "dense_196 (Dense)            (None, 64)                4160      \n",
      "_________________________________________________________________\n",
      "batch_normalization_10 (Batc (None, 64)                256       \n",
      "_________________________________________________________________\n",
      "dense_197 (Dense)            (None, 64)                4160      \n",
      "_________________________________________________________________\n",
      "batch_normalization_11 (Batc (None, 64)                256       \n",
      "_________________________________________________________________\n",
      "dense_198 (Dense)            (None, 64)                4160      \n",
      "_________________________________________________________________\n",
      "batch_normalization_12 (Batc (None, 64)                256       \n",
      "_________________________________________________________________\n",
      "dense_199 (Dense)            (None, 64)                4160      \n",
      "_________________________________________________________________\n",
      "batch_normalization_13 (Batc (None, 64)                256       \n",
      "_________________________________________________________________\n",
      "dense_200 (Dense)            (None, 64)                4160      \n",
      "_________________________________________________________________\n",
      "batch_normalization_14 (Batc (None, 64)                256       \n",
      "_________________________________________________________________\n",
      "dense_201 (Dense)            (None, 64)                4160      \n",
      "_________________________________________________________________\n",
      "batch_normalization_15 (Batc (None, 64)                256       \n",
      "_________________________________________________________________\n",
      "dense_202 (Dense)            (None, 64)                4160      \n",
      "_________________________________________________________________\n",
      "batch_normalization_16 (Batc (None, 64)                256       \n",
      "_________________________________________________________________\n",
      "dense_203 (Dense)            (None, 64)                4160      \n",
      "_________________________________________________________________\n",
      "batch_normalization_17 (Batc (None, 64)                256       \n",
      "_________________________________________________________________\n",
      "dense_204 (Dense)            (None, 64)                4160      \n",
      "_________________________________________________________________\n",
      "batch_normalization_18 (Batc (None, 64)                256       \n",
      "_________________________________________________________________\n",
      "dense_205 (Dense)            (None, 64)                4160      \n",
      "_________________________________________________________________\n",
      "batch_normalization_19 (Batc (None, 64)                256       \n",
      "_________________________________________________________________\n",
      "dense_206 (Dense)            (None, 64)                4160      \n",
      "_________________________________________________________________\n",
      "batch_normalization_20 (Batc (None, 64)                256       \n",
      "_________________________________________________________________\n",
      "dense_207 (Dense)            (None, 64)                4160      \n",
      "_________________________________________________________________\n",
      "batch_normalization_21 (Batc (None, 64)                256       \n",
      "_________________________________________________________________\n",
      "dense_208 (Dense)            (None, 64)                4160      \n",
      "_________________________________________________________________\n",
      "batch_normalization_22 (Batc (None, 64)                256       \n",
      "_________________________________________________________________\n",
      "dense_209 (Dense)            (None, 64)                4160      \n",
      "_________________________________________________________________\n",
      "batch_normalization_23 (Batc (None, 64)                256       \n",
      "_________________________________________________________________\n",
      "dense_210 (Dense)            (None, 64)                4160      \n",
      "_________________________________________________________________\n",
      "batch_normalization_24 (Batc (None, 64)                256       \n",
      "_________________________________________________________________\n",
      "dense_211 (Dense)            (None, 64)                4160      \n",
      "_________________________________________________________________\n",
      "batch_normalization_25 (Batc (None, 64)                256       \n",
      "_________________________________________________________________\n",
      "dense_212 (Dense)            (None, 64)                4160      \n",
      "_________________________________________________________________\n",
      "batch_normalization_26 (Batc (None, 64)                256       \n",
      "_________________________________________________________________\n",
      "dense_213 (Dense)            (None, 64)                4160      \n",
      "_________________________________________________________________\n",
      "batch_normalization_27 (Batc (None, 64)                256       \n",
      "_________________________________________________________________\n",
      "dense_214 (Dense)            (None, 64)                4160      \n",
      "_________________________________________________________________\n",
      "batch_normalization_28 (Batc (None, 64)                256       \n",
      "_________________________________________________________________\n",
      "dense_215 (Dense)            (None, 64)                4160      \n",
      "_________________________________________________________________\n",
      "batch_normalization_29 (Batc (None, 64)                256       \n",
      "_________________________________________________________________\n",
      "dense_216 (Dense)            (None, 64)                4160      \n",
      "_________________________________________________________________\n",
      "batch_normalization_30 (Batc (None, 64)                256       \n",
      "_________________________________________________________________\n",
      "dense_217 (Dense)            (None, 64)                4160      \n",
      "_________________________________________________________________\n",
      "batch_normalization_31 (Batc (None, 64)                256       \n",
      "_________________________________________________________________\n",
      "dense_218 (Dense)            (None, 64)                4160      \n",
      "_________________________________________________________________\n",
      "batch_normalization_32 (Batc (None, 64)                256       \n",
      "_________________________________________________________________\n",
      "dense_219 (Dense)            (None, 64)                4160      \n",
      "_________________________________________________________________\n",
      "batch_normalization_33 (Batc (None, 64)                256       \n",
      "_________________________________________________________________\n",
      "dense_220 (Dense)            (None, 64)                4160      \n",
      "_________________________________________________________________\n",
      "batch_normalization_34 (Batc (None, 64)                256       \n",
      "_________________________________________________________________\n",
      "dense_221 (Dense)            (None, 64)                4160      \n",
      "_________________________________________________________________\n",
      "batch_normalization_35 (Batc (None, 64)                256       \n",
      "_________________________________________________________________\n",
      "dense_222 (Dense)            (None, 64)                4160      \n",
      "_________________________________________________________________\n",
      "batch_normalization_36 (Batc (None, 64)                256       \n",
      "_________________________________________________________________\n",
      "dense_223 (Dense)            (None, 64)                4160      \n",
      "_________________________________________________________________\n",
      "batch_normalization_37 (Batc (None, 64)                256       \n",
      "_________________________________________________________________\n",
      "dense_224 (Dense)            (None, 64)                4160      \n",
      "_________________________________________________________________\n",
      "batch_normalization_38 (Batc (None, 64)                256       \n",
      "_________________________________________________________________\n",
      "dense_225 (Dense)            (None, 64)                4160      \n",
      "_________________________________________________________________\n",
      "batch_normalization_39 (Batc (None, 64)                256       \n",
      "_________________________________________________________________\n",
      "dense_226 (Dense)            (None, 64)                4160      \n",
      "_________________________________________________________________\n",
      "batch_normalization_40 (Batc (None, 64)                256       \n",
      "_________________________________________________________________\n",
      "dense_227 (Dense)            (None, 64)                4160      \n",
      "_________________________________________________________________\n",
      "batch_normalization_41 (Batc (None, 64)                256       \n",
      "_________________________________________________________________\n",
      "dense_228 (Dense)            (None, 64)                4160      \n",
      "_________________________________________________________________\n",
      "batch_normalization_42 (Batc (None, 64)                256       \n",
      "_________________________________________________________________\n",
      "dense_229 (Dense)            (None, 64)                4160      \n",
      "_________________________________________________________________\n",
      "batch_normalization_43 (Batc (None, 64)                256       \n",
      "_________________________________________________________________\n",
      "dense_230 (Dense)            (None, 64)                4160      \n",
      "_________________________________________________________________\n",
      "batch_normalization_44 (Batc (None, 64)                256       \n",
      "_________________________________________________________________\n",
      "dense_231 (Dense)            (None, 64)                4160      \n",
      "_________________________________________________________________\n",
      "batch_normalization_45 (Batc (None, 64)                256       \n",
      "_________________________________________________________________\n",
      "dense_232 (Dense)            (None, 64)                4160      \n",
      "_________________________________________________________________\n",
      "batch_normalization_46 (Batc (None, 64)                256       \n",
      "_________________________________________________________________\n",
      "dense_233 (Dense)            (None, 64)                4160      \n",
      "_________________________________________________________________\n",
      "batch_normalization_47 (Batc (None, 64)                256       \n",
      "_________________________________________________________________\n",
      "dense_234 (Dense)            (None, 64)                4160      \n",
      "_________________________________________________________________\n",
      "batch_normalization_48 (Batc (None, 64)                256       \n",
      "_________________________________________________________________\n",
      "dense_235 (Dense)            (None, 64)                4160      \n",
      "_________________________________________________________________\n",
      "batch_normalization_49 (Batc (None, 64)                256       \n",
      "_________________________________________________________________\n",
      "dense_236 (Dense)            (None, 64)                4160      \n",
      "_________________________________________________________________\n",
      "batch_normalization_50 (Batc (None, 64)                256       \n",
      "_________________________________________________________________\n",
      "dense_237 (Dense)            (None, 64)                4160      \n",
      "_________________________________________________________________\n",
      "batch_normalization_51 (Batc (None, 64)                256       \n",
      "_________________________________________________________________\n",
      "dense_238 (Dense)            (None, 10)                650       \n",
      "_________________________________________________________________\n",
      "batch_normalization_52 (Batc (None, 10)                40        \n",
      "_________________________________________________________________\n",
      "activation_1 (Activation)    (None, 10)                0         \n",
      "=================================================================\n",
      "Total params: 271,986\n",
      "Trainable params: 265,438\n",
      "Non-trainable params: 6,548\n",
      "_________________________________________________________________\n"
     ]
    }
   ],
   "source": [
    "# 导入\n",
    "from keras import models\n",
    "from keras import layers\n",
    "from keras import regularizers\n",
    "from keras import initializers\n",
    "\n",
    "\n",
    "# 搭建网路\n",
    "network = models.Sequential()\n",
    "kernel_regularizer =  None #regularizers.l2(1)\n",
    "kernel_initializer= 'glorot_uniform'\n",
    "activation =None#layers.LeakyReLU(alpha=0.3)\n",
    "activation_layer = layers.LeakyReLU(alpha=0.3) #layers.Activation('relu')\n",
    "\n",
    "# 第一层\n",
    "network.add(layers.Dense(64, activation=activation, kernel_regularizer=kernel_regularizer, kernel_initializer=kernel_initializer, input_shape=(28 * 28,))) # relu\n",
    "network.add(layers.BatchNormalization())\n",
    "network.add(activation_layer)\n",
    "\n",
    "for i in range(50):\n",
    "    network.add(layers.Dense(64, activation=activation , kernel_regularizer=kernel_regularizer, kernel_initializer=kernel_initializer)) # relu, sigmoid\n",
    "    network.add(layers.BatchNormalization())\n",
    "    network.add(activation_layer)\n",
    "    \n",
    "network.add(layers.Dense(10, kernel_regularizer=kernel_regularizer, kernel_initializer=kernel_initializer))\n",
    "network.add(layers.BatchNormalization())\n",
    "network.add( layers.Activation('softmax'))\n",
    "\n",
    "network.summary()"
   ]
  },
  {
   "cell_type": "markdown",
   "metadata": {},
   "source": [
    "# 编译网络"
   ]
  },
  {
   "cell_type": "code",
   "execution_count": 71,
   "metadata": {
    "pycharm": {
     "name": "#%%"
    }
   },
   "outputs": [],
   "source": [
    "from keras import optimizers\n",
    "network.compile(optimizer=optimizers.adam(learning_rate=0.01), loss='categorical_crossentropy', metrics=['accuracy']) #mean_squared_error\n"
   ]
  },
  {
   "cell_type": "markdown",
   "metadata": {},
   "source": [
    "# 训练"
   ]
  },
  {
   "cell_type": "code",
   "execution_count": 72,
   "metadata": {},
   "outputs": [
    {
     "name": "stdout",
     "output_type": "stream",
     "text": [
      "Train on 5000 samples, validate on 1000 samples\n",
      "Epoch 1/200\n",
      "5000/5000 [==============================] - 20s 4ms/step - loss: 2.2139 - accuracy: 0.2078 - val_loss: 2055.2806 - val_accuracy: 0.0940\n",
      "Epoch 2/200\n",
      "5000/5000 [==============================] - 1s 138us/step - loss: 1.5283 - accuracy: 0.4752 - val_loss: 678.4523 - val_accuracy: 0.2020\n",
      "Epoch 3/200\n",
      "5000/5000 [==============================] - 1s 136us/step - loss: 1.1246 - accuracy: 0.6258 - val_loss: 620.1625 - val_accuracy: 0.2400\n",
      "Epoch 4/200\n",
      "5000/5000 [==============================] - 1s 137us/step - loss: 0.8580 - accuracy: 0.7240 - val_loss: 620.1750 - val_accuracy: 0.2750\n",
      "Epoch 5/200\n",
      "5000/5000 [==============================] - 1s 136us/step - loss: 0.7439 - accuracy: 0.7626 - val_loss: 316.9840 - val_accuracy: 0.4380\n",
      "Epoch 6/200\n",
      "5000/5000 [==============================] - 1s 129us/step - loss: 0.6690 - accuracy: 0.7924 - val_loss: 101.1124 - val_accuracy: 0.5470\n",
      "Epoch 7/200\n",
      "5000/5000 [==============================] - 1s 125us/step - loss: 0.6212 - accuracy: 0.8090 - val_loss: 123.2042 - val_accuracy: 0.5670\n",
      "Epoch 8/200\n",
      "5000/5000 [==============================] - 1s 123us/step - loss: 0.5216 - accuracy: 0.8538 - val_loss: 73.0244 - val_accuracy: 0.6320\n",
      "Epoch 9/200\n",
      "5000/5000 [==============================] - 1s 124us/step - loss: 0.4815 - accuracy: 0.8770 - val_loss: 34.4227 - val_accuracy: 0.5200\n",
      "Epoch 10/200\n",
      "5000/5000 [==============================] - 1s 128us/step - loss: 0.6489 - accuracy: 0.8294 - val_loss: 220.4229 - val_accuracy: 0.5040\n",
      "Epoch 11/200\n",
      "5000/5000 [==============================] - 1s 124us/step - loss: 0.6194 - accuracy: 0.8366 - val_loss: 17565.9217 - val_accuracy: 0.2550\n",
      "Epoch 12/200\n",
      "5000/5000 [==============================] - 1s 126us/step - loss: 0.5389 - accuracy: 0.8652 - val_loss: 2464.9713 - val_accuracy: 0.2810\n",
      "Epoch 13/200\n",
      "5000/5000 [==============================] - 1s 124us/step - loss: 0.5073 - accuracy: 0.8692 - val_loss: 778.4925 - val_accuracy: 0.4830\n",
      "Epoch 14/200\n",
      "5000/5000 [==============================] - 1s 123us/step - loss: 0.5368 - accuracy: 0.8642 - val_loss: 427.4336 - val_accuracy: 0.5170\n",
      "Epoch 15/200\n",
      "5000/5000 [==============================] - 1s 124us/step - loss: 0.4894 - accuracy: 0.8712 - val_loss: 332.2984 - val_accuracy: 0.4910\n",
      "Epoch 16/200\n",
      "5000/5000 [==============================] - 1s 134us/step - loss: 0.4683 - accuracy: 0.8804 - val_loss: 81.9361 - val_accuracy: 0.6330\n",
      "Epoch 17/200\n",
      "5000/5000 [==============================] - 1s 130us/step - loss: 0.4973 - accuracy: 0.8622 - val_loss: 117.9920 - val_accuracy: 0.5740\n",
      "Epoch 18/200\n",
      "5000/5000 [==============================] - 1s 127us/step - loss: 0.8885 - accuracy: 0.7322 - val_loss: 619.4387 - val_accuracy: 0.4060\n",
      "Epoch 19/200\n",
      "5000/5000 [==============================] - 1s 124us/step - loss: 0.7041 - accuracy: 0.7742 - val_loss: 588.5501 - val_accuracy: 0.2930\n",
      "Epoch 20/200\n",
      "5000/5000 [==============================] - 1s 124us/step - loss: 0.5940 - accuracy: 0.8384 - val_loss: 412.3796 - val_accuracy: 0.4630\n",
      "Epoch 21/200\n",
      "5000/5000 [==============================] - 1s 163us/step - loss: 0.6378 - accuracy: 0.8188 - val_loss: 160.7367 - val_accuracy: 0.5870\n",
      "Epoch 22/200\n",
      "5000/5000 [==============================] - 1s 138us/step - loss: 0.5728 - accuracy: 0.8394 - val_loss: 72.0484 - val_accuracy: 0.6080\n",
      "Epoch 23/200\n",
      "5000/5000 [==============================] - 1s 126us/step - loss: 0.6771 - accuracy: 0.8146 - val_loss: 121.2240 - val_accuracy: 0.4260\n",
      "Epoch 24/200\n",
      "5000/5000 [==============================] - 1s 124us/step - loss: 0.5819 - accuracy: 0.8410 - val_loss: 47.6719 - val_accuracy: 0.5100\n",
      "Epoch 25/200\n",
      "5000/5000 [==============================] - 1s 126us/step - loss: 0.7647 - accuracy: 0.7550 - val_loss: 24.9227 - val_accuracy: 0.4980\n",
      "Epoch 26/200\n",
      "5000/5000 [==============================] - 1s 125us/step - loss: 0.7091 - accuracy: 0.7692 - val_loss: 30.6388 - val_accuracy: 0.5820\n",
      "Epoch 27/200\n",
      "5000/5000 [==============================] - 1s 125us/step - loss: 0.7843 - accuracy: 0.7596 - val_loss: 43.9651 - val_accuracy: 0.5660\n",
      "Epoch 28/200\n",
      "5000/5000 [==============================] - 1s 127us/step - loss: 0.6423 - accuracy: 0.8112 - val_loss: 61.1926 - val_accuracy: 0.6410\n",
      "Epoch 29/200\n",
      "5000/5000 [==============================] - 1s 130us/step - loss: 0.5526 - accuracy: 0.8464 - val_loss: 67.0704 - val_accuracy: 0.5980\n",
      "Epoch 30/200\n",
      "5000/5000 [==============================] - 1s 130us/step - loss: 0.5710 - accuracy: 0.8518 - val_loss: 78.3969 - val_accuracy: 0.4190\n",
      "Epoch 31/200\n",
      "5000/5000 [==============================] - 1s 135us/step - loss: 0.8644 - accuracy: 0.7286 - val_loss: 41.0766 - val_accuracy: 0.4150\n",
      "Epoch 32/200\n",
      "5000/5000 [==============================] - 1s 133us/step - loss: 0.9047 - accuracy: 0.6892 - val_loss: 72.1344 - val_accuracy: 0.4380\n",
      "Epoch 33/200\n",
      "5000/5000 [==============================] - 1s 127us/step - loss: 0.6647 - accuracy: 0.8068 - val_loss: 83.5962 - val_accuracy: 0.3540\n",
      "Epoch 34/200\n",
      "5000/5000 [==============================] - 1s 129us/step - loss: 0.5339 - accuracy: 0.8614 - val_loss: 52.8524 - val_accuracy: 0.4370\n",
      "Epoch 35/200\n",
      "5000/5000 [==============================] - 1s 131us/step - loss: 0.4668 - accuracy: 0.8838 - val_loss: 48.0583 - val_accuracy: 0.5750\n",
      "Epoch 36/200\n",
      "5000/5000 [==============================] - 1s 123us/step - loss: 0.4727 - accuracy: 0.8876 - val_loss: 35.8721 - val_accuracy: 0.4970\n",
      "Epoch 37/200\n",
      "5000/5000 [==============================] - 1s 129us/step - loss: 0.4703 - accuracy: 0.8782 - val_loss: 22.0437 - val_accuracy: 0.6280\n",
      "Epoch 38/200\n",
      "5000/5000 [==============================] - 1s 129us/step - loss: 0.5113 - accuracy: 0.8538 - val_loss: 15.2177 - val_accuracy: 0.6610\n",
      "Epoch 39/200\n",
      "5000/5000 [==============================] - 1s 126us/step - loss: 0.4763 - accuracy: 0.8746 - val_loss: 27.0942 - val_accuracy: 0.5920\n",
      "Epoch 40/200\n",
      "5000/5000 [==============================] - 1s 132us/step - loss: 0.4812 - accuracy: 0.8750 - val_loss: 8.5703 - val_accuracy: 0.6100\n",
      "Epoch 41/200\n",
      "5000/5000 [==============================] - 1s 134us/step - loss: 0.7527 - accuracy: 0.7990 - val_loss: 33.0015 - val_accuracy: 0.5610\n",
      "Epoch 42/200\n",
      "5000/5000 [==============================] - 1s 127us/step - loss: 0.6046 - accuracy: 0.8324 - val_loss: 31.1133 - val_accuracy: 0.6660\n",
      "Epoch 43/200\n",
      "5000/5000 [==============================] - 1s 127us/step - loss: 0.5546 - accuracy: 0.8448 - val_loss: 11.3735 - val_accuracy: 0.6310\n",
      "Epoch 44/200\n",
      "5000/5000 [==============================] - 1s 128us/step - loss: 0.5140 - accuracy: 0.8486 - val_loss: 11.1828 - val_accuracy: 0.6510\n",
      "Epoch 45/200\n",
      "5000/5000 [==============================] - 1s 128us/step - loss: 0.6476 - accuracy: 0.8328 - val_loss: 34.2855 - val_accuracy: 0.4550\n",
      "Epoch 46/200\n",
      "5000/5000 [==============================] - 1s 126us/step - loss: 0.7767 - accuracy: 0.7786 - val_loss: 18.9618 - val_accuracy: 0.4010\n",
      "Epoch 47/200\n",
      "5000/5000 [==============================] - 1s 130us/step - loss: 0.6607 - accuracy: 0.8242 - val_loss: 19.1683 - val_accuracy: 0.5050\n",
      "Epoch 48/200\n",
      "5000/5000 [==============================] - 1s 152us/step - loss: 0.5260 - accuracy: 0.8662 - val_loss: 25.7423 - val_accuracy: 0.4230\n",
      "Epoch 49/200\n",
      "5000/5000 [==============================] - 1s 133us/step - loss: 0.4809 - accuracy: 0.8786 - val_loss: 13.2193 - val_accuracy: 0.5430\n",
      "Epoch 50/200\n",
      "5000/5000 [==============================] - 1s 125us/step - loss: 0.7085 - accuracy: 0.8260 - val_loss: 15.3325 - val_accuracy: 0.5630\n",
      "Epoch 51/200\n",
      "5000/5000 [==============================] - 1s 124us/step - loss: 0.5882 - accuracy: 0.8476 - val_loss: 12.6940 - val_accuracy: 0.5400\n",
      "Epoch 52/200\n",
      "5000/5000 [==============================] - 1s 124us/step - loss: 0.4907 - accuracy: 0.8694 - val_loss: 11.9965 - val_accuracy: 0.5920\n",
      "Epoch 53/200\n",
      "5000/5000 [==============================] - 1s 129us/step - loss: 0.5877 - accuracy: 0.8464 - val_loss: 18.1694 - val_accuracy: 0.5840\n",
      "Epoch 54/200\n",
      "5000/5000 [==============================] - 1s 126us/step - loss: 0.5767 - accuracy: 0.8462 - val_loss: 27.9098 - val_accuracy: 0.6180\n",
      "Epoch 55/200\n"
     ]
    },
    {
     "name": "stdout",
     "output_type": "stream",
     "text": [
      "5000/5000 [==============================] - 1s 126us/step - loss: 0.6185 - accuracy: 0.8266 - val_loss: 35.7367 - val_accuracy: 0.6150\n",
      "Epoch 56/200\n",
      "5000/5000 [==============================] - 1s 125us/step - loss: 0.4971 - accuracy: 0.8646 - val_loss: 16.2125 - val_accuracy: 0.5930\n",
      "Epoch 57/200\n",
      "5000/5000 [==============================] - 1s 151us/step - loss: 0.4266 - accuracy: 0.8844 - val_loss: 9.5298 - val_accuracy: 0.7210\n",
      "Epoch 58/200\n",
      "5000/5000 [==============================] - 1s 125us/step - loss: 0.3879 - accuracy: 0.8964 - val_loss: 6.7336 - val_accuracy: 0.6150\n",
      "Epoch 59/200\n",
      "5000/5000 [==============================] - 1s 128us/step - loss: 0.4588 - accuracy: 0.8880 - val_loss: 5.6001 - val_accuracy: 0.6670\n",
      "Epoch 60/200\n",
      "5000/5000 [==============================] - 1s 209us/step - loss: 0.4093 - accuracy: 0.8976 - val_loss: 4.9438 - val_accuracy: 0.7020\n",
      "Epoch 61/200\n",
      "5000/5000 [==============================] - 1s 231us/step - loss: 0.3773 - accuracy: 0.9042 - val_loss: 6.5477 - val_accuracy: 0.7700\n",
      "Epoch 62/200\n",
      "5000/5000 [==============================] - 1s 249us/step - loss: 0.4403 - accuracy: 0.8894 - val_loss: 3.5148 - val_accuracy: 0.5770\n",
      "Epoch 63/200\n",
      "5000/5000 [==============================] - 2s 479us/step - loss: 1.2455 - accuracy: 0.6334 - val_loss: 777.7443 - val_accuracy: 0.1100\n",
      "Epoch 64/200\n",
      "5000/5000 [==============================] - 1s 132us/step - loss: 0.9912 - accuracy: 0.6852 - val_loss: 1533.6900 - val_accuracy: 0.1900\n",
      "Epoch 65/200\n",
      "5000/5000 [==============================] - 1s 125us/step - loss: 0.8969 - accuracy: 0.7046 - val_loss: 384.5775 - val_accuracy: 0.2340\n",
      "Epoch 66/200\n",
      "5000/5000 [==============================] - 1s 126us/step - loss: 0.8697 - accuracy: 0.7344 - val_loss: 276.2088 - val_accuracy: 0.1750\n",
      "Epoch 67/200\n",
      "5000/5000 [==============================] - 1s 136us/step - loss: 0.9187 - accuracy: 0.7026 - val_loss: 168.5965 - val_accuracy: 0.2880\n",
      "Epoch 68/200\n",
      "5000/5000 [==============================] - 1s 124us/step - loss: 0.8198 - accuracy: 0.7434 - val_loss: 93.3571 - val_accuracy: 0.3080\n",
      "Epoch 69/200\n",
      "5000/5000 [==============================] - 1s 123us/step - loss: 0.7381 - accuracy: 0.7688 - val_loss: 66.1067 - val_accuracy: 0.2900\n",
      "Epoch 70/200\n",
      "5000/5000 [==============================] - 1s 167us/step - loss: 0.7359 - accuracy: 0.7902 - val_loss: 31.6907 - val_accuracy: 0.3340\n",
      "Epoch 71/200\n",
      "5000/5000 [==============================] - 1s 126us/step - loss: 1.0955 - accuracy: 0.6410 - val_loss: 68.7160 - val_accuracy: 0.4030\n",
      "Epoch 72/200\n",
      "5000/5000 [==============================] - 1s 124us/step - loss: 1.0951 - accuracy: 0.5944 - val_loss: 251.5057 - val_accuracy: 0.2150\n",
      "Epoch 73/200\n",
      "5000/5000 [==============================] - 1s 124us/step - loss: 1.0087 - accuracy: 0.6548 - val_loss: 224.6206 - val_accuracy: 0.2740\n",
      "Epoch 74/200\n",
      "5000/5000 [==============================] - 1s 125us/step - loss: 1.0600 - accuracy: 0.6284 - val_loss: 340.6422 - val_accuracy: 0.2900\n",
      "Epoch 75/200\n",
      "5000/5000 [==============================] - 1s 123us/step - loss: 0.9870 - accuracy: 0.6396 - val_loss: 83.9654 - val_accuracy: 0.3310\n",
      "Epoch 76/200\n",
      "5000/5000 [==============================] - 1s 127us/step - loss: 0.9912 - accuracy: 0.6376 - val_loss: 246.0881 - val_accuracy: 0.4080\n",
      "Epoch 77/200\n",
      "5000/5000 [==============================] - 1s 124us/step - loss: 0.8631 - accuracy: 0.7156 - val_loss: 82.6102 - val_accuracy: 0.4120\n",
      "Epoch 78/200\n",
      "5000/5000 [==============================] - 1s 124us/step - loss: 0.8847 - accuracy: 0.6926 - val_loss: 60.7298 - val_accuracy: 0.4200\n",
      "Epoch 79/200\n",
      "5000/5000 [==============================] - 1s 122us/step - loss: 1.4201 - accuracy: 0.5182 - val_loss: 577.5617 - val_accuracy: 0.3570\n",
      "Epoch 80/200\n",
      "5000/5000 [==============================] - 1s 123us/step - loss: 1.1723 - accuracy: 0.5366 - val_loss: 166.2321 - val_accuracy: 0.4950\n",
      "Epoch 81/200\n",
      "5000/5000 [==============================] - 1s 123us/step - loss: 1.0627 - accuracy: 0.5560 - val_loss: 49.1609 - val_accuracy: 0.4520\n",
      "Epoch 82/200\n",
      "5000/5000 [==============================] - 1s 122us/step - loss: 0.9131 - accuracy: 0.6604 - val_loss: 31.0413 - val_accuracy: 0.4040\n",
      "Epoch 83/200\n",
      "5000/5000 [==============================] - 1s 127us/step - loss: 0.7913 - accuracy: 0.7256 - val_loss: 23.4368 - val_accuracy: 0.4730\n",
      "Epoch 84/200\n",
      "5000/5000 [==============================] - 1s 125us/step - loss: 0.7321 - accuracy: 0.7498 - val_loss: 22.1523 - val_accuracy: 0.4780\n",
      "Epoch 85/200\n",
      "5000/5000 [==============================] - 1s 123us/step - loss: 0.6845 - accuracy: 0.7726 - val_loss: 19.9574 - val_accuracy: 0.4770\n",
      "Epoch 86/200\n",
      "5000/5000 [==============================] - 1s 123us/step - loss: 0.6556 - accuracy: 0.7930 - val_loss: 18.0190 - val_accuracy: 0.5460\n",
      "Epoch 87/200\n",
      "5000/5000 [==============================] - 1s 123us/step - loss: 0.6362 - accuracy: 0.8022 - val_loss: 14.6229 - val_accuracy: 0.4720\n",
      "Epoch 88/200\n",
      "5000/5000 [==============================] - 1s 122us/step - loss: 0.5767 - accuracy: 0.8190 - val_loss: 10.3358 - val_accuracy: 0.4820\n",
      "Epoch 89/200\n",
      "5000/5000 [==============================] - 1s 123us/step - loss: 0.5784 - accuracy: 0.8186 - val_loss: 13.2491 - val_accuracy: 0.5620\n",
      "Epoch 90/200\n",
      "5000/5000 [==============================] - 1s 125us/step - loss: 0.5590 - accuracy: 0.8192 - val_loss: 10.6408 - val_accuracy: 0.5590\n",
      "Epoch 91/200\n",
      "5000/5000 [==============================] - 1s 122us/step - loss: 0.5347 - accuracy: 0.8342 - val_loss: 12.1231 - val_accuracy: 0.4910\n",
      "Epoch 92/200\n",
      "5000/5000 [==============================] - 1s 123us/step - loss: 0.5700 - accuracy: 0.8284 - val_loss: 9.2876 - val_accuracy: 0.4740\n",
      "Epoch 93/200\n",
      "5000/5000 [==============================] - 1s 124us/step - loss: 0.5289 - accuracy: 0.8452 - val_loss: 8.3018 - val_accuracy: 0.4730\n",
      "Epoch 94/200\n",
      "5000/5000 [==============================] - 1s 122us/step - loss: 0.5444 - accuracy: 0.8346 - val_loss: 2.0826 - val_accuracy: 0.6750\n",
      "Epoch 95/200\n",
      "5000/5000 [==============================] - 1s 122us/step - loss: 0.4897 - accuracy: 0.8602 - val_loss: 6.1456 - val_accuracy: 0.6010\n",
      "Epoch 96/200\n",
      "5000/5000 [==============================] - 1s 129us/step - loss: 0.5613 - accuracy: 0.8434 - val_loss: 7.6156 - val_accuracy: 0.5090\n",
      "Epoch 97/200\n",
      "5000/5000 [==============================] - 1s 123us/step - loss: 0.4764 - accuracy: 0.8722 - val_loss: 4.8557 - val_accuracy: 0.6400\n",
      "Epoch 98/200\n",
      "5000/5000 [==============================] - 1s 122us/step - loss: 0.4567 - accuracy: 0.8824 - val_loss: 3.0821 - val_accuracy: 0.6070\n",
      "Epoch 99/200\n",
      "5000/5000 [==============================] - 1s 123us/step - loss: 0.4917 - accuracy: 0.8654 - val_loss: 3.0211 - val_accuracy: 0.5490\n",
      "Epoch 100/200\n",
      "5000/5000 [==============================] - 1s 124us/step - loss: 0.4973 - accuracy: 0.8564 - val_loss: 9.5484 - val_accuracy: 0.6080\n",
      "Epoch 101/200\n",
      "5000/5000 [==============================] - 1s 123us/step - loss: 0.7394 - accuracy: 0.7710 - val_loss: 7.9550 - val_accuracy: 0.5660\n",
      "Epoch 102/200\n",
      "5000/5000 [==============================] - 1s 122us/step - loss: 0.7312 - accuracy: 0.7636 - val_loss: 6.1397 - val_accuracy: 0.4930\n",
      "Epoch 103/200\n",
      "5000/5000 [==============================] - 1s 122us/step - loss: 0.7769 - accuracy: 0.7590 - val_loss: 14.9192 - val_accuracy: 0.4070\n",
      "Epoch 104/200\n",
      "5000/5000 [==============================] - 1s 122us/step - loss: 0.6508 - accuracy: 0.8038 - val_loss: 7.8593 - val_accuracy: 0.5000\n",
      "Epoch 105/200\n",
      "5000/5000 [==============================] - 1s 123us/step - loss: 0.6129 - accuracy: 0.8218 - val_loss: 8.0975 - val_accuracy: 0.4860\n",
      "Epoch 106/200\n",
      "5000/5000 [==============================] - 1s 123us/step - loss: 0.5373 - accuracy: 0.8442 - val_loss: 6.7913 - val_accuracy: 0.5720\n",
      "Epoch 107/200\n",
      "5000/5000 [==============================] - 1s 125us/step - loss: 0.5427 - accuracy: 0.8424 - val_loss: 6.1589 - val_accuracy: 0.5150\n",
      "Epoch 108/200\n",
      "5000/5000 [==============================] - 1s 243us/step - loss: 0.5784 - accuracy: 0.8360 - val_loss: 10.7140 - val_accuracy: 0.4610\n",
      "Epoch 109/200\n",
      "5000/5000 [==============================] - 1s 138us/step - loss: 0.7880 - accuracy: 0.7188 - val_loss: 15.3385 - val_accuracy: 0.4050\n",
      "Epoch 110/200\n"
     ]
    },
    {
     "name": "stdout",
     "output_type": "stream",
     "text": [
      "5000/5000 [==============================] - 1s 125us/step - loss: 0.7224 - accuracy: 0.7504 - val_loss: 28.9712 - val_accuracy: 0.4590\n",
      "Epoch 111/200\n",
      "5000/5000 [==============================] - 1s 128us/step - loss: 0.6172 - accuracy: 0.8052 - val_loss: 45.3357 - val_accuracy: 0.4710\n",
      "Epoch 112/200\n",
      "5000/5000 [==============================] - 1s 127us/step - loss: 0.5853 - accuracy: 0.8276 - val_loss: 32.0487 - val_accuracy: 0.4620\n",
      "Epoch 113/200\n",
      "5000/5000 [==============================] - 1s 126us/step - loss: 0.5556 - accuracy: 0.8452 - val_loss: 33.0515 - val_accuracy: 0.4740\n",
      "Epoch 114/200\n",
      "5000/5000 [==============================] - 1s 127us/step - loss: 0.5079 - accuracy: 0.8682 - val_loss: 31.2251 - val_accuracy: 0.4510\n",
      "Epoch 115/200\n",
      "5000/5000 [==============================] - 1s 126us/step - loss: 0.5145 - accuracy: 0.8562 - val_loss: 22.6604 - val_accuracy: 0.4710\n",
      "Epoch 116/200\n",
      "5000/5000 [==============================] - 1s 127us/step - loss: 0.5668 - accuracy: 0.8402 - val_loss: 29.7521 - val_accuracy: 0.5060\n",
      "Epoch 117/200\n",
      "5000/5000 [==============================] - 1s 128us/step - loss: 0.5742 - accuracy: 0.8352 - val_loss: 29.5982 - val_accuracy: 0.4740\n",
      "Epoch 118/200\n",
      "5000/5000 [==============================] - 1s 126us/step - loss: 0.5580 - accuracy: 0.8414 - val_loss: 24.1991 - val_accuracy: 0.4680\n",
      "Epoch 119/200\n",
      "5000/5000 [==============================] - 1s 139us/step - loss: 0.4944 - accuracy: 0.8586 - val_loss: 31.9837 - val_accuracy: 0.4700\n",
      "Epoch 120/200\n",
      "5000/5000 [==============================] - 1s 134us/step - loss: 0.4931 - accuracy: 0.8650 - val_loss: 27.4526 - val_accuracy: 0.4080\n",
      "Epoch 121/200\n",
      "5000/5000 [==============================] - 1s 135us/step - loss: 0.4795 - accuracy: 0.8602 - val_loss: 13.4554 - val_accuracy: 0.4710\n",
      "Epoch 122/200\n",
      "5000/5000 [==============================] - 1s 133us/step - loss: 0.6206 - accuracy: 0.8326 - val_loss: 28.1582 - val_accuracy: 0.5090\n",
      "Epoch 123/200\n",
      "5000/5000 [==============================] - 1s 132us/step - loss: 0.5745 - accuracy: 0.8476 - val_loss: 36.8091 - val_accuracy: 0.4610\n",
      "Epoch 124/200\n",
      "5000/5000 [==============================] - 1s 127us/step - loss: 0.5832 - accuracy: 0.8398 - val_loss: 16.7833 - val_accuracy: 0.4160\n",
      "Epoch 125/200\n",
      "5000/5000 [==============================] - 1s 133us/step - loss: 0.5131 - accuracy: 0.8530 - val_loss: 23.6077 - val_accuracy: 0.3890\n",
      "Epoch 126/200\n",
      "5000/5000 [==============================] - 1s 127us/step - loss: 0.8481 - accuracy: 0.7706 - val_loss: 19.5526 - val_accuracy: 0.2830\n",
      "Epoch 127/200\n",
      "5000/5000 [==============================] - 1s 128us/step - loss: 0.7163 - accuracy: 0.8108 - val_loss: 19.9340 - val_accuracy: 0.4180\n",
      "Epoch 128/200\n",
      "5000/5000 [==============================] - 1s 128us/step - loss: 0.6364 - accuracy: 0.8292 - val_loss: 27.8267 - val_accuracy: 0.4240\n",
      "Epoch 129/200\n",
      "5000/5000 [==============================] - 1s 126us/step - loss: 0.6133 - accuracy: 0.8256 - val_loss: 22.0931 - val_accuracy: 0.3250\n",
      "Epoch 130/200\n",
      "5000/5000 [==============================] - 1s 124us/step - loss: 0.5885 - accuracy: 0.8356 - val_loss: 11.7860 - val_accuracy: 0.4020\n",
      "Epoch 131/200\n",
      "5000/5000 [==============================] - 1s 131us/step - loss: 0.6096 - accuracy: 0.8290 - val_loss: 11.7112 - val_accuracy: 0.4200\n",
      "Epoch 132/200\n",
      "5000/5000 [==============================] - 1s 129us/step - loss: 0.6537 - accuracy: 0.8168 - val_loss: 24.3907 - val_accuracy: 0.2930\n",
      "Epoch 133/200\n",
      "5000/5000 [==============================] - 1s 133us/step - loss: 0.6000 - accuracy: 0.8378 - val_loss: 13.1204 - val_accuracy: 0.4160\n",
      "Epoch 134/200\n",
      "5000/5000 [==============================] - 1s 127us/step - loss: 0.5208 - accuracy: 0.8636 - val_loss: 5.7694 - val_accuracy: 0.5470\n",
      "Epoch 135/200\n",
      "5000/5000 [==============================] - 1s 126us/step - loss: 0.5020 - accuracy: 0.8674 - val_loss: 3.7679 - val_accuracy: 0.5970\n",
      "Epoch 136/200\n",
      "5000/5000 [==============================] - 1s 127us/step - loss: 0.4767 - accuracy: 0.8706 - val_loss: 12.1623 - val_accuracy: 0.5230\n",
      "Epoch 137/200\n",
      "5000/5000 [==============================] - 1s 127us/step - loss: 0.4775 - accuracy: 0.8742 - val_loss: 20.8575 - val_accuracy: 0.5380\n",
      "Epoch 138/200\n",
      "5000/5000 [==============================] - 1s 151us/step - loss: 0.5416 - accuracy: 0.8508 - val_loss: 8.9915 - val_accuracy: 0.4930\n",
      "Epoch 139/200\n",
      "5000/5000 [==============================] - 1s 212us/step - loss: 0.7465 - accuracy: 0.7796 - val_loss: 54.2503 - val_accuracy: 0.4230\n",
      "Epoch 140/200\n",
      "5000/5000 [==============================] - 1s 125us/step - loss: 0.8934 - accuracy: 0.7086 - val_loss: 48.3269 - val_accuracy: 0.4190\n",
      "Epoch 141/200\n",
      "5000/5000 [==============================] - 1s 132us/step - loss: 0.8437 - accuracy: 0.7206 - val_loss: 28.5872 - val_accuracy: 0.3470\n",
      "Epoch 142/200\n",
      "5000/5000 [==============================] - 1s 128us/step - loss: 0.9180 - accuracy: 0.6964 - val_loss: 47.1405 - val_accuracy: 0.3990\n",
      "Epoch 143/200\n",
      "5000/5000 [==============================] - 1s 126us/step - loss: 1.2636 - accuracy: 0.6336 - val_loss: 61.3112 - val_accuracy: 0.2040\n",
      "Epoch 144/200\n",
      "5000/5000 [==============================] - 1s 133us/step - loss: 1.5127 - accuracy: 0.4876 - val_loss: 58.9059 - val_accuracy: 0.2130\n",
      "Epoch 145/200\n",
      "5000/5000 [==============================] - 1s 127us/step - loss: 1.2035 - accuracy: 0.5878 - val_loss: 50.4412 - val_accuracy: 0.3230\n",
      "Epoch 146/200\n",
      "5000/5000 [==============================] - 1s 128us/step - loss: 1.1495 - accuracy: 0.5950 - val_loss: 57.3170 - val_accuracy: 0.4080\n",
      "Epoch 147/200\n",
      "5000/5000 [==============================] - 1s 128us/step - loss: 1.0924 - accuracy: 0.6094 - val_loss: 50.2197 - val_accuracy: 0.3730\n",
      "Epoch 148/200\n",
      "5000/5000 [==============================] - 1s 125us/step - loss: 1.1608 - accuracy: 0.5964 - val_loss: 37.3600 - val_accuracy: 0.3350\n",
      "Epoch 149/200\n",
      "5000/5000 [==============================] - 1s 127us/step - loss: 1.0680 - accuracy: 0.6386 - val_loss: 38.0001 - val_accuracy: 0.2910\n",
      "Epoch 150/200\n",
      "5000/5000 [==============================] - 1s 134us/step - loss: 1.0110 - accuracy: 0.6582 - val_loss: 12.2148 - val_accuracy: 0.2890\n",
      "Epoch 151/200\n",
      "5000/5000 [==============================] - 1s 127us/step - loss: 1.0412 - accuracy: 0.6284 - val_loss: 14.4576 - val_accuracy: 0.4480\n",
      "Epoch 152/200\n",
      "5000/5000 [==============================] - 1s 125us/step - loss: 1.0545 - accuracy: 0.6420 - val_loss: 22.5869 - val_accuracy: 0.3610\n",
      "Epoch 153/200\n",
      "5000/5000 [==============================] - 1s 125us/step - loss: 1.1455 - accuracy: 0.6164 - val_loss: 34.8372 - val_accuracy: 0.4070\n",
      "Epoch 154/200\n",
      "5000/5000 [==============================] - 1s 126us/step - loss: 1.0652 - accuracy: 0.6284 - val_loss: 18.2463 - val_accuracy: 0.2630\n",
      "Epoch 155/200\n",
      "5000/5000 [==============================] - 1s 127us/step - loss: 1.0293 - accuracy: 0.6516 - val_loss: 28.0702 - val_accuracy: 0.3110\n",
      "Epoch 156/200\n",
      "5000/5000 [==============================] - 1s 127us/step - loss: 0.9779 - accuracy: 0.6688 - val_loss: 16.7501 - val_accuracy: 0.1760\n",
      "Epoch 157/200\n",
      "5000/5000 [==============================] - 1s 130us/step - loss: 1.0203 - accuracy: 0.6534 - val_loss: 13.8261 - val_accuracy: 0.2400\n",
      "Epoch 158/200\n",
      "5000/5000 [==============================] - 1s 131us/step - loss: 0.9856 - accuracy: 0.6648 - val_loss: 18.9310 - val_accuracy: 0.3810\n",
      "Epoch 159/200\n",
      "5000/5000 [==============================] - 1s 131us/step - loss: 1.0150 - accuracy: 0.6614 - val_loss: 27.9831 - val_accuracy: 0.3420\n",
      "Epoch 160/200\n",
      "5000/5000 [==============================] - 1s 129us/step - loss: 0.9637 - accuracy: 0.6634 - val_loss: 43.6392 - val_accuracy: 0.3680\n",
      "Epoch 161/200\n",
      "5000/5000 [==============================] - 1s 128us/step - loss: 0.9449 - accuracy: 0.6666 - val_loss: 74.2437 - val_accuracy: 0.2840\n",
      "Epoch 162/200\n",
      "5000/5000 [==============================] - 1s 128us/step - loss: 1.1478 - accuracy: 0.6084 - val_loss: 62.3139 - val_accuracy: 0.3650\n",
      "Epoch 163/200\n",
      "5000/5000 [==============================] - 1s 123us/step - loss: 1.1747 - accuracy: 0.5908 - val_loss: 158.3878 - val_accuracy: 0.2950\n",
      "Epoch 164/200\n",
      "5000/5000 [==============================] - 1s 135us/step - loss: 1.0527 - accuracy: 0.6416 - val_loss: 114.3499 - val_accuracy: 0.3250\n"
     ]
    },
    {
     "name": "stdout",
     "output_type": "stream",
     "text": [
      "Epoch 165/200\n",
      "5000/5000 [==============================] - 1s 150us/step - loss: 1.1008 - accuracy: 0.6202 - val_loss: 53.5817 - val_accuracy: 0.2360\n",
      "Epoch 166/200\n",
      "5000/5000 [==============================] - 1s 128us/step - loss: 1.1760 - accuracy: 0.6042 - val_loss: 23.2696 - val_accuracy: 0.3430\n",
      "Epoch 167/200\n",
      "5000/5000 [==============================] - 1s 162us/step - loss: 1.0120 - accuracy: 0.6426 - val_loss: 12.0170 - val_accuracy: 0.4150\n",
      "Epoch 168/200\n",
      "5000/5000 [==============================] - 1s 127us/step - loss: 1.0353 - accuracy: 0.6378 - val_loss: 10.2907 - val_accuracy: 0.4090\n",
      "Epoch 169/200\n",
      "5000/5000 [==============================] - 1s 126us/step - loss: 0.9400 - accuracy: 0.6758 - val_loss: 8.2486 - val_accuracy: 0.4400\n",
      "Epoch 170/200\n",
      "5000/5000 [==============================] - 1s 125us/step - loss: 0.8884 - accuracy: 0.6876 - val_loss: 6.0124 - val_accuracy: 0.4520\n",
      "Epoch 171/200\n",
      "5000/5000 [==============================] - 1s 178us/step - loss: 0.9387 - accuracy: 0.6798 - val_loss: 6.8347 - val_accuracy: 0.3770\n",
      "Epoch 172/200\n",
      "5000/5000 [==============================] - 1s 192us/step - loss: 1.0325 - accuracy: 0.6360 - val_loss: 15.9745 - val_accuracy: 0.3630\n",
      "Epoch 173/200\n",
      "5000/5000 [==============================] - 1s 155us/step - loss: 1.0058 - accuracy: 0.6390 - val_loss: 28.4381 - val_accuracy: 0.4150\n",
      "Epoch 174/200\n",
      "5000/5000 [==============================] - 1s 129us/step - loss: 0.9286 - accuracy: 0.6686 - val_loss: 13.5291 - val_accuracy: 0.4240\n",
      "Epoch 175/200\n",
      "5000/5000 [==============================] - 1s 149us/step - loss: 0.9439 - accuracy: 0.6636 - val_loss: 71.0313 - val_accuracy: 0.4230\n",
      "Epoch 176/200\n",
      "5000/5000 [==============================] - 1s 120us/step - loss: 0.9880 - accuracy: 0.6534 - val_loss: 60.9854 - val_accuracy: 0.3930\n",
      "Epoch 177/200\n",
      "5000/5000 [==============================] - 1s 120us/step - loss: 1.1385 - accuracy: 0.5848 - val_loss: 124.4778 - val_accuracy: 0.3140\n",
      "Epoch 178/200\n",
      "5000/5000 [==============================] - 1s 119us/step - loss: 1.1906 - accuracy: 0.5634 - val_loss: 99.9057 - val_accuracy: 0.3310\n",
      "Epoch 179/200\n",
      "5000/5000 [==============================] - 1s 119us/step - loss: 1.1259 - accuracy: 0.5954 - val_loss: 480.2732 - val_accuracy: 0.3450\n",
      "Epoch 180/200\n",
      "5000/5000 [==============================] - 1s 121us/step - loss: 1.4948 - accuracy: 0.4564 - val_loss: 1166.5769 - val_accuracy: 0.3540\n",
      "Epoch 181/200\n",
      "5000/5000 [==============================] - 1s 126us/step - loss: 1.1903 - accuracy: 0.5802 - val_loss: 692.8568 - val_accuracy: 0.3300\n",
      "Epoch 182/200\n",
      "5000/5000 [==============================] - 1s 118us/step - loss: 1.0225 - accuracy: 0.6782 - val_loss: 142.9909 - val_accuracy: 0.3220\n",
      "Epoch 183/200\n",
      "5000/5000 [==============================] - 1s 118us/step - loss: 0.9481 - accuracy: 0.6832 - val_loss: 60.6600 - val_accuracy: 0.3210\n",
      "Epoch 184/200\n",
      "5000/5000 [==============================] - 1s 118us/step - loss: 0.8960 - accuracy: 0.7000 - val_loss: 31.1877 - val_accuracy: 0.4270\n",
      "Epoch 185/200\n",
      "5000/5000 [==============================] - 1s 119us/step - loss: 0.8531 - accuracy: 0.7116 - val_loss: 10.0111 - val_accuracy: 0.4680\n",
      "Epoch 186/200\n",
      "5000/5000 [==============================] - 1s 120us/step - loss: 0.8001 - accuracy: 0.7348 - val_loss: 6.6319 - val_accuracy: 0.4500\n",
      "Epoch 187/200\n",
      "5000/5000 [==============================] - 1s 125us/step - loss: 0.7872 - accuracy: 0.7408 - val_loss: 5.6439 - val_accuracy: 0.4850\n",
      "Epoch 188/200\n",
      "5000/5000 [==============================] - 1s 121us/step - loss: 0.7628 - accuracy: 0.7448 - val_loss: 3.2373 - val_accuracy: 0.5390\n",
      "Epoch 189/200\n",
      "5000/5000 [==============================] - 1s 119us/step - loss: 0.7343 - accuracy: 0.7568 - val_loss: 2.7003 - val_accuracy: 0.5240\n",
      "Epoch 190/200\n",
      "5000/5000 [==============================] - 1s 123us/step - loss: 0.7381 - accuracy: 0.7502 - val_loss: 2.5798 - val_accuracy: 0.5340\n",
      "Epoch 191/200\n",
      "5000/5000 [==============================] - 1s 124us/step - loss: 0.7510 - accuracy: 0.7554 - val_loss: 4.7525 - val_accuracy: 0.3820\n",
      "Epoch 192/200\n",
      "5000/5000 [==============================] - 1s 120us/step - loss: 0.8077 - accuracy: 0.7356 - val_loss: 6.2213 - val_accuracy: 0.3950\n",
      "Epoch 193/200\n",
      "5000/5000 [==============================] - 1s 121us/step - loss: 0.7618 - accuracy: 0.7480 - val_loss: 2.6524 - val_accuracy: 0.5320\n",
      "Epoch 194/200\n",
      "5000/5000 [==============================] - 1s 127us/step - loss: 0.7466 - accuracy: 0.7516 - val_loss: 7.1608 - val_accuracy: 0.4740\n",
      "Epoch 195/200\n",
      "5000/5000 [==============================] - 1s 122us/step - loss: 0.7001 - accuracy: 0.7740 - val_loss: 10.9070 - val_accuracy: 0.5350\n",
      "Epoch 196/200\n",
      "5000/5000 [==============================] - 1s 120us/step - loss: 0.6652 - accuracy: 0.7924 - val_loss: 9.2092 - val_accuracy: 0.5420\n",
      "Epoch 197/200\n",
      "5000/5000 [==============================] - 1s 119us/step - loss: 0.6574 - accuracy: 0.7894 - val_loss: 10.1396 - val_accuracy: 0.5140\n",
      "Epoch 198/200\n",
      "5000/5000 [==============================] - 1s 119us/step - loss: 0.6716 - accuracy: 0.7936 - val_loss: 9.4656 - val_accuracy: 0.4490\n",
      "Epoch 199/200\n",
      "5000/5000 [==============================] - 1s 120us/step - loss: 0.6530 - accuracy: 0.7928 - val_loss: 5.2061 - val_accuracy: 0.5300\n",
      "Epoch 200/200\n",
      "5000/5000 [==============================] - 1s 129us/step - loss: 0.6338 - accuracy: 0.8016 - val_loss: 8.7963 - val_accuracy: 0.4540\n"
     ]
    }
   ],
   "source": [
    "history = network.fit(train_vectors_norm, train_one_hots, epochs=200, batch_size=256, validation_data=(val_vectors_norm, val_one_hots))"
   ]
  },
  {
   "cell_type": "code",
   "execution_count": null,
   "metadata": {},
   "outputs": [],
   "source": []
  },
  {
   "cell_type": "code",
   "execution_count": 73,
   "metadata": {},
   "outputs": [],
   "source": [
    "# 取出训练的中间数据：损失和准确度\n",
    "history_dict = history.history\n",
    "loss_values = history_dict['loss']\n",
    "val_loss_values = history_dict['val_loss']\n",
    "acc_values = history_dict['accuracy']\n",
    "val_acc_values = history_dict['val_accuracy']"
   ]
  },
  {
   "cell_type": "code",
   "execution_count": 74,
   "metadata": {},
   "outputs": [
    {
     "name": "stdout",
     "output_type": "stream",
     "text": [
      "训练集准确率为：80.16%， 验证集准确率为：45.4%\n"
     ]
    }
   ],
   "source": [
    "# 查看准确率\n",
    "train_best_acc = f'{round(acc_values[-1]*100,2)}%'\n",
    "val_best_acc =  f'{round(val_acc_values[-1]*100,2)}%'\n",
    "print(f\"训练集准确率为：{train_best_acc}， 验证集准确率为：{val_best_acc}\")"
   ]
  },
  {
   "cell_type": "markdown",
   "metadata": {},
   "source": [
    "# 作图"
   ]
  },
  {
   "cell_type": "code",
   "execution_count": 75,
   "metadata": {},
   "outputs": [
    {
     "data": {
      "image/png": "[encoded data removed]",
      "text/plain": [
       "<Figure size 432x288 with 2 Axes>"
      ]
     },
     "metadata": {
      "needs_background": "light"
     },
     "output_type": "display_data"
    }
   ],
   "source": [
    "\n",
    "fig, axes = plt.subplots(2,1)\n",
    "epochs = range(1, len(loss_values) + 1)\n",
    "\n",
    "# 损失\n",
    "axes[0].plot(epochs, loss_values, 'b-o', label='Training loss')\n",
    "axes[0].plot(epochs, val_loss_values, 'r-o', label='Validation loss')\n",
    "axes[0].legend()\n",
    "axes[0].set_title('loss')\n",
    "\n",
    "# 准确度\n",
    "axes[1].plot(epochs, acc_values, 'b-o', label=f'Training (best: {train_best_acc})')\n",
    "axes[1].plot(epochs, val_acc_values, 'r-o', label=f'Validation (best: {val_best_acc})')\n",
    "axes[1].legend()\n",
    "axes[1].set_title('accuary')\n",
    "axes[1].set_ylim([0, 1])\n",
    "\n",
    "plt.tight_layout()\n",
    "plt.show()"
   ]
  },
  {
   "cell_type": "markdown",
   "metadata": {},
   "source": [
    "# 测试"
   ]
  },
  {
   "cell_type": "code",
   "execution_count": 76,
   "metadata": {},
   "outputs": [
    {
     "name": "stdout",
     "output_type": "stream",
     "text": [
      "10000/10000 [==============================] - 1s 107us/step\n"
     ]
    }
   ],
   "source": [
    "test_loss, test_acc = network.evaluate(test_vectors_norm, test_one_hots)"
   ]
  },
  {
   "cell_type": "markdown",
   "metadata": {},
   "source": [
    "# 自定义预测"
   ]
  },
  {
   "cell_type": "code",
   "execution_count": 92,
   "metadata": {},
   "outputs": [
    {
     "data": {
      "text/plain": [
       "array([[1.9908111e-36, 2.7522531e-24, 5.9113445e-25, 2.8792378e-30,\n",
       "        2.0034069e-26, 9.2629055e-36, 5.8976183e-28, 1.0000000e+00,\n",
       "        1.7343716e-35, 1.3098857e-29]], dtype=float32)"
      ]
     },
     "execution_count": 92,
     "metadata": {},
     "output_type": "execute_result"
    }
   ],
   "source": [
    "# 预测一张 \n",
    "network.predict(test_vectors_norm[0][None])"
   ]
  },
  {
   "cell_type": "code",
   "execution_count": 93,
   "metadata": {},
   "outputs": [
    {
     "data": {
      "text/plain": [
       "array([[1.9907959e-36, 2.7522426e-24, 5.9112991e-25, 2.8792160e-30,\n",
       "        2.0033915e-26, 9.2628345e-36, 5.8975509e-28, 1.0000000e+00,\n",
       "        1.7343584e-35, 1.3098758e-29],\n",
       "       [3.9261697e-15, 1.5064974e-09, 1.0000000e+00, 2.3736438e-10,\n",
       "        2.9452919e-11, 1.6771991e-13, 7.6494935e-11, 2.2122315e-09,\n",
       "        3.7176453e-09, 8.0565079e-13]], dtype=float32)"
      ]
     },
     "execution_count": 93,
     "metadata": {},
     "output_type": "execute_result"
    }
   ],
   "source": [
    "# 预测多张\n",
    "network.predict(test_vectors_norm[:2])"
   ]
  }
 ],
 "metadata": {
  "kernelspec": {
   "display_name": "Python 3",
   "language": "python",
   "name": "python3"
  },
  "language_info": {
   "codemirror_mode": {
    "name": "ipython",
    "version": 3
   },
   "file_extension": ".py",
   "mimetype": "text/x-python",
   "name": "python",
   "nbconvert_exporter": "python",
   "pygments_lexer": "ipython3",
   "version": "3.7.3"
  }
 },
 "nbformat": 4,
 "nbformat_minor": 1
}
