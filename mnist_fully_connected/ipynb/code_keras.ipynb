{
 "cells": [
  {
   "cell_type": "markdown",
   "metadata": {},
   "source": [
    "# 参数"
   ]
  },
  {
   "cell_type": "code",
   "execution_count": 1,
   "metadata": {},
   "outputs": [],
   "source": [
    "TRAIN_SIZE = 5000\n",
    "VAL_SIZE = 1000"
   ]
  },
  {
   "cell_type": "markdown",
   "metadata": {},
   "source": [
    "# 导入mnist数据集"
   ]
  },
  {
   "cell_type": "code",
   "execution_count": 2,
   "metadata": {
    "pycharm": {}
   },
   "outputs": [
    {
     "name": "stderr",
     "output_type": "stream",
     "text": [
      "Using TensorFlow backend.\n"
     ]
    }
   ],
   "source": [
    "# 导入mnist\n",
    "from keras.datasets import mnist"
   ]
  },
  {
   "cell_type": "code",
   "execution_count": 3,
   "metadata": {},
   "outputs": [],
   "source": [
    "# 拆分训练集和测试集\n",
    "(train_images, train_labels), (test_images, test_labels) = mnist.load_data()"
   ]
  },
  {
   "cell_type": "markdown",
   "metadata": {
    "pycharm": {}
   },
   "source": [
    "# 查看训练数据"
   ]
  },
  {
   "cell_type": "code",
   "execution_count": 4,
   "metadata": {},
   "outputs": [
    {
     "data": {
      "text/plain": [
       "numpy.ndarray"
      ]
     },
     "execution_count": 4,
     "metadata": {},
     "output_type": "execute_result"
    }
   ],
   "source": [
    "# 查看数据类型\n",
    "type(train_images)"
   ]
  },
  {
   "cell_type": "code",
   "execution_count": 5,
   "metadata": {
    "pycharm": {}
   },
   "outputs": [
    {
     "data": {
      "text/plain": [
       "(60000, 28, 28)"
      ]
     },
     "execution_count": 5,
     "metadata": {},
     "output_type": "execute_result"
    }
   ],
   "source": [
    "train_images.shape"
   ]
  },
  {
   "cell_type": "code",
   "execution_count": 6,
   "metadata": {
    "pycharm": {}
   },
   "outputs": [
    {
     "data": {
      "text/plain": [
       "array([5, 0, 4, ..., 5, 6, 8], dtype=uint8)"
      ]
     },
     "execution_count": 6,
     "metadata": {},
     "output_type": "execute_result"
    }
   ],
   "source": [
    "train_labels"
   ]
  },
  {
   "cell_type": "markdown",
   "metadata": {
    "pycharm": {}
   },
   "source": [
    "# 查看测试数据"
   ]
  },
  {
   "cell_type": "code",
   "execution_count": 7,
   "metadata": {
    "pycharm": {}
   },
   "outputs": [
    {
     "data": {
      "text/plain": [
       "(10000, 28, 28)"
      ]
     },
     "execution_count": 7,
     "metadata": {},
     "output_type": "execute_result"
    }
   ],
   "source": [
    "test_images.shape"
   ]
  },
  {
   "cell_type": "code",
   "execution_count": 8,
   "metadata": {
    "pycharm": {}
   },
   "outputs": [
    {
     "data": {
      "text/plain": [
       "array([7, 2, 1, ..., 4, 5, 6], dtype=uint8)"
      ]
     },
     "execution_count": 8,
     "metadata": {},
     "output_type": "execute_result"
    }
   ],
   "source": [
    "test_labels"
   ]
  },
  {
   "cell_type": "markdown",
   "metadata": {},
   "source": [
    "# 作图查看mnist"
   ]
  },
  {
   "cell_type": "code",
   "execution_count": 9,
   "metadata": {},
   "outputs": [
    {
     "data": {
      "text/plain": [
       "<Figure size 640x480 with 1 Axes>"
      ]
     },
     "metadata": {},
     "output_type": "display_data"
    }
   ],
   "source": [
    "import numpy as np\n",
    "import matplotlib.pyplot as plt\n",
    "digits = np.concatenate(train_images[:10], axis=1) \n",
    "plt.imshow(digits)\n",
    "plt.show()"
   ]
  },
  {
   "cell_type": "markdown",
   "metadata": {},
   "source": [
    "# 从训练集中提取出验证集"
   ]
  },
  {
   "cell_type": "code",
   "execution_count": 10,
   "metadata": {},
   "outputs": [
    {
     "data": {
      "text/plain": [
       "(50000, 28, 28)"
      ]
     },
     "execution_count": 10,
     "metadata": {},
     "output_type": "execute_result"
    }
   ],
   "source": [
    "val_images, val_labels = train_images[:VAL_SIZE], train_labels[:VAL_SIZE]\n",
    "new_train_images, new_train_labels = train_images[-TRAIN_SIZE:], train_labels[-TRAIN_SIZE:]\n",
    "new_train_images.shape"
   ]
  },
  {
   "cell_type": "markdown",
   "metadata": {},
   "source": [
    "# 输入输出转成向量"
   ]
  },
  {
   "cell_type": "code",
   "execution_count": 11,
   "metadata": {},
   "outputs": [
    {
     "data": {
      "text/plain": [
       "(50000, 784)"
      ]
     },
     "execution_count": 11,
     "metadata": {},
     "output_type": "execute_result"
    }
   ],
   "source": [
    "#  输入的28*28图像转成向量\n",
    "train_vectors = new_train_images.reshape((TRAIN_SIZE, 28 * 28))\n",
    "test_vectors = test_images.reshape((10000, 28 * 28))\n",
    "val_vectors = val_images.reshape((VAL_SIZE, 28 * 28))\n",
    "\n",
    "# 检查训练集输入\n",
    "train_vectors.shape"
   ]
  },
  {
   "cell_type": "code",
   "execution_count": 12,
   "metadata": {},
   "outputs": [
    {
     "data": {
      "text/plain": [
       "(50000, 10)"
      ]
     },
     "execution_count": 12,
     "metadata": {},
     "output_type": "execute_result"
    }
   ],
   "source": [
    "from keras.utils import to_categorical\n",
    "\n",
    "# 将labels转为one-hot向量\n",
    "train_one_hots = to_categorical(new_train_labels)\n",
    "test_one_hots = to_categorical(test_labels)\n",
    "val_one_hots = to_categorical(val_labels)\n",
    "\n",
    "# 检查训练集输出\n",
    "train_one_hots.shape"
   ]
  },
  {
   "cell_type": "markdown",
   "metadata": {},
   "source": [
    "# 归一化"
   ]
  },
  {
   "cell_type": "code",
   "execution_count": 28,
   "metadata": {},
   "outputs": [
    {
     "name": "stdout",
     "output_type": "stream",
     "text": [
      "归一化前： [ 0  0  0  0  0  0  0  0  0  0  0  0  0  0  0  0  0  0  0  0  0  0  0  0\n",
      "  0  0  0  0  0  0  0  0  0  0  0  0  0  0  0 29]\n",
      "\n",
      "归一化后： [0.         0.         0.         0.         0.         0.\n",
      " 0.         0.         0.         0.         0.         0.\n",
      " 0.         0.         0.         0.         0.         0.\n",
      " 0.         0.         0.         0.         0.         0.\n",
      " 0.         0.         0.         0.         0.         0.\n",
      " 0.         0.         0.         0.         0.         0.\n",
      " 0.         0.         0.         0.11372549]\n"
     ]
    }
   ],
   "source": [
    "print('归一化前：', train_vectors[0][110:150])\n",
    "print()\n",
    "\n",
    "train_vectors_norm = train_vectors.astype('float32') / 255\n",
    "test_vectors_norm = test_vectors.astype('float32') / 255\n",
    "val_vectors_norm = val_vectors.astype('float32') / 255\n",
    "\n",
    "print('归一化后：', train_vectors_norm[0][110:150])"
   ]
  },
  {
   "cell_type": "markdown",
   "metadata": {
    "pycharm": {}
   },
   "source": [
    "# 搭建网络"
   ]
  },
  {
   "cell_type": "code",
   "execution_count": 36,
   "metadata": {
    "pycharm": {}
   },
   "outputs": [],
   "source": [
    "# 导入\n",
    "from keras import models\n",
    "from keras import layers\n",
    "from keras import regularizers\n",
    "from keras import initializers\n",
    "\n",
    "# 搭建网路\n",
    "network = models.Sequential()\n",
    "kernel_regularizer =  None #regularizers.l2(1)\n",
    "kernel_initializer= 'glorot_uniform'\n",
    "network.add(layers.Dense(64, activation='relu', kernel_regularizer=kernel_regularizer, kernel_initializer=kernel_initializer, input_shape=(28 * 28,))) # relu\n",
    "for i in range(50):\n",
    "    network.add(layers.Dense(64, activation='relu' , kernel_regularizer=kernel_regularizer, kernel_initializer=kernel_initializer)) # relu, sigmoid\n",
    "network.add(layers.Dense(10, activation='softmax' , kernel_regularizer=kernel_regularizer, kernel_initializer=kernel_initializer))"
   ]
  },
  {
   "cell_type": "markdown",
   "metadata": {},
   "source": [
    "# 编译网络"
   ]
  },
  {
   "cell_type": "code",
   "execution_count": 37,
   "metadata": {
    "pycharm": {
     "name": "#%%"
    }
   },
   "outputs": [],
   "source": [
    "from keras import optimizers\n",
    "network.compile(optimizer=optimizers.adam(learning_rate=0.01), loss='categorical_crossentropy', metrics=['accuracy']) #mean_squared_error"
   ]
  },
  {
   "cell_type": "markdown",
   "metadata": {},
   "source": [
    "# 训练"
   ]
  },
  {
   "cell_type": "code",
   "execution_count": 38,
   "metadata": {},
   "outputs": [
    {
     "name": "stdout",
     "output_type": "stream",
     "text": [
      "Train on 50000 samples, validate on 10000 samples\n",
      "Epoch 1/10\n",
      "50000/50000 [==============================] - 5s 106us/step - loss: 2.3022 - accuracy: 0.1103 - val_loss: 2.3015 - val_accuracy: 0.0980\n",
      "Epoch 2/10\n",
      "50000/50000 [==============================] - 3s 62us/step - loss: 2.3020 - accuracy: 0.1114 - val_loss: 2.3016 - val_accuracy: 0.1070\n",
      "Epoch 3/10\n",
      "50000/50000 [==============================] - 3s 62us/step - loss: 2.3020 - accuracy: 0.1102 - val_loss: 2.3014 - val_accuracy: 0.1127\n",
      "Epoch 4/10\n",
      "50000/50000 [==============================] - 3s 62us/step - loss: 2.3022 - accuracy: 0.1114 - val_loss: 2.3012 - val_accuracy: 0.1127\n",
      "Epoch 5/10\n",
      "50000/50000 [==============================] - 3s 64us/step - loss: 2.3019 - accuracy: 0.1118 - val_loss: 2.3017 - val_accuracy: 0.1127\n",
      "Epoch 6/10\n",
      "50000/50000 [==============================] - 3s 63us/step - loss: 2.3021 - accuracy: 0.1124 - val_loss: 2.3020 - val_accuracy: 0.1070\n",
      "Epoch 7/10\n",
      "50000/50000 [==============================] - 3s 63us/step - loss: 2.3021 - accuracy: 0.1099 - val_loss: 2.3012 - val_accuracy: 0.1127\n",
      "Epoch 8/10\n",
      "50000/50000 [==============================] - 3s 64us/step - loss: 2.3019 - accuracy: 0.1102 - val_loss: 2.3017 - val_accuracy: 0.1070\n",
      "Epoch 9/10\n",
      "50000/50000 [==============================] - 3s 63us/step - loss: 2.3020 - accuracy: 0.1127 - val_loss: 2.3013 - val_accuracy: 0.1070\n",
      "Epoch 10/10\n",
      "50000/50000 [==============================] - 3s 62us/step - loss: 2.3021 - accuracy: 0.1111 - val_loss: 2.3013 - val_accuracy: 0.1127\n"
     ]
    }
   ],
   "source": [
    "history = network.fit(train_vectors_norm, train_one_hots, epochs=10, batch_size=128, validation_data=(val_vectors_norm, val_one_hots))"
   ]
  },
  {
   "cell_type": "code",
   "execution_count": null,
   "metadata": {},
   "outputs": [],
   "source": []
  },
  {
   "cell_type": "code",
   "execution_count": 39,
   "metadata": {},
   "outputs": [],
   "source": [
    "# 取出训练的中间数据：损失和准确度\n",
    "history_dict = history.history\n",
    "loss_values = history_dict['loss']\n",
    "val_loss_values = history_dict['val_loss']\n",
    "acc_values = history_dict['accuracy']\n",
    "val_acc_values = history_dict['val_accuracy']"
   ]
  },
  {
   "cell_type": "code",
   "execution_count": 40,
   "metadata": {},
   "outputs": [
    {
     "name": "stdout",
     "output_type": "stream",
     "text": [
      "训练集准确率为：11.11%， 验证集准确率为：11.27%\n"
     ]
    }
   ],
   "source": [
    "# 查看准确率\n",
    "train_best_acc = f'{round(acc_values[-1]*100,2)}%'\n",
    "val_best_acc =  f'{round(val_acc_values[-1]*100,2)}%'\n",
    "print(f\"训练集准确率为：{train_best_acc}， 验证集准确率为：{val_best_acc}\")"
   ]
  },
  {
   "cell_type": "markdown",
   "metadata": {},
   "source": [
    "# 作图"
   ]
  },
  {
   "cell_type": "code",
   "execution_count": 41,
   "metadata": {},
   "outputs": [
    {
     "data": {
      "image/png": "[encoded data removed]",
      "text/plain": [
       "<Figure size 432x288 with 2 Axes>"
      ]
     },
     "metadata": {
      "needs_background": "light"
     },
     "output_type": "display_data"
    }
   ],
   "source": [
    "\n",
    "fig, axes = plt.subplots(2,1)\n",
    "epochs = range(1, len(loss_values) + 1)\n",
    "\n",
    "# 损失\n",
    "axes[0].plot(epochs, loss_values, 'b-o', label='Training loss')\n",
    "axes[0].plot(epochs, val_loss_values, 'r-o', label='Validation loss')\n",
    "axes[0].legend()\n",
    "axes[0].set_title('loss')\n",
    "\n",
    "# 准确度\n",
    "axes[1].plot(epochs, acc_values, 'b-o', label=f'Training (best: {train_best_acc})')\n",
    "axes[1].plot(epochs, val_acc_values, 'r-o', label=f'Validation (best: {val_best_acc})')\n",
    "axes[1].legend()\n",
    "axes[1].set_title('accuary')\n",
    "axes[1].set_ylim([0, 1])\n",
    "\n",
    "plt.tight_layout()\n",
    "plt.show()"
   ]
  },
  {
   "cell_type": "markdown",
   "metadata": {},
   "source": [
    "# 测试"
   ]
  },
  {
   "cell_type": "code",
   "execution_count": 42,
   "metadata": {},
   "outputs": [
    {
     "name": "stdout",
     "output_type": "stream",
     "text": [
      "10000/10000 [==============================] - 0s 46us/step\n"
     ]
    }
   ],
   "source": [
    "test_loss, test_acc = network.evaluate(test_vectors_norm, test_one_hots)"
   ]
  }
 ],
 "metadata": {
  "kernelspec": {
   "display_name": "Python 3",
   "language": "python",
   "name": "python3"
  },
  "language_info": {
   "codemirror_mode": {
    "name": "ipython",
    "version": 3
   },
   "file_extension": ".py",
   "mimetype": "text/x-python",
   "name": "python",
   "nbconvert_exporter": "python",
   "pygments_lexer": "ipython3",
   "version": "3.7.3"
  }
 },
 "nbformat": 4,
 "nbformat_minor": 1
}
